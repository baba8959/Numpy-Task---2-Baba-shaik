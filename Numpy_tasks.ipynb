{
  "cells": [
    {
      "cell_type": "markdown",
      "metadata": {
        "id": "view-in-github",
        "colab_type": "text"
      },
      "source": [
        "<a href=\"https://colab.research.google.com/github/baba8959/Numpy-Task---2-Baba-shaik/blob/main/Numpy_tasks.ipynb\" target=\"_parent\"><img src=\"https://colab.research.google.com/assets/colab-badge.svg\" alt=\"Open In Colab\"/></a>"
      ]
    },
    {
      "cell_type": "markdown",
      "metadata": {
        "id": "_QY0FYfmS8VP"
      },
      "source": [
        "# Numpy Task - 2 (Baba Shaik)\n",
        "\n"
      ]
    },
    {
      "cell_type": "markdown",
      "metadata": {
        "id": "FqJ02gRdS8VT"
      },
      "source": [
        "#### 1. Import the numpy package under the name `np` (★☆☆) \n",
        "(**hint**: import … as …)"
      ]
    },
    {
      "cell_type": "code",
      "execution_count": 1,
      "metadata": {
        "collapsed": true,
        "id": "NndWEeIFS8VU"
      },
      "outputs": [],
      "source": [
        "import numpy as np"
      ]
    },
    {
      "cell_type": "markdown",
      "metadata": {
        "id": "cOPC6vJyS8VV"
      },
      "source": [
        "#### 2. Print the numpy version and the configuration (★☆☆) \n",
        "(**hint**: np.\\_\\_version\\_\\_, np.show\\_config)"
      ]
    },
    {
      "cell_type": "code",
      "execution_count": 4,
      "metadata": {
        "colab": {
          "base_uri": "https://localhost:8080/",
          "height": 35
        },
        "id": "pZtR0ehES8VW",
        "outputId": "841ccfd8-2d9f-4e4f-f683-7f80f1e759b3"
      },
      "outputs": [
        {
          "output_type": "execute_result",
          "data": {
            "text/plain": [
              "'1.21.6'"
            ],
            "application/vnd.google.colaboratory.intrinsic+json": {
              "type": "string"
            }
          },
          "metadata": {},
          "execution_count": 4
        }
      ],
      "source": [
        "import numpy as np\n",
        "np.__version__"
      ]
    },
    {
      "cell_type": "code",
      "source": [
        "np.show_config()"
      ],
      "metadata": {
        "colab": {
          "base_uri": "https://localhost:8080/"
        },
        "id": "Kcz1PFNFVppr",
        "outputId": "7030a8c9-f17b-434f-d2ac-6381ae7d5725"
      },
      "execution_count": 6,
      "outputs": [
        {
          "output_type": "stream",
          "name": "stdout",
          "text": [
            "blas_mkl_info:\n",
            "  NOT AVAILABLE\n",
            "blis_info:\n",
            "  NOT AVAILABLE\n",
            "openblas_info:\n",
            "    libraries = ['openblas', 'openblas']\n",
            "    library_dirs = ['/usr/local/lib']\n",
            "    language = c\n",
            "    define_macros = [('HAVE_CBLAS', None)]\n",
            "    runtime_library_dirs = ['/usr/local/lib']\n",
            "blas_opt_info:\n",
            "    libraries = ['openblas', 'openblas']\n",
            "    library_dirs = ['/usr/local/lib']\n",
            "    language = c\n",
            "    define_macros = [('HAVE_CBLAS', None)]\n",
            "    runtime_library_dirs = ['/usr/local/lib']\n",
            "lapack_mkl_info:\n",
            "  NOT AVAILABLE\n",
            "openblas_lapack_info:\n",
            "    libraries = ['openblas', 'openblas']\n",
            "    library_dirs = ['/usr/local/lib']\n",
            "    language = c\n",
            "    define_macros = [('HAVE_CBLAS', None)]\n",
            "    runtime_library_dirs = ['/usr/local/lib']\n",
            "lapack_opt_info:\n",
            "    libraries = ['openblas', 'openblas']\n",
            "    library_dirs = ['/usr/local/lib']\n",
            "    language = c\n",
            "    define_macros = [('HAVE_CBLAS', None)]\n",
            "    runtime_library_dirs = ['/usr/local/lib']\n",
            "Supported SIMD extensions in this NumPy install:\n",
            "    baseline = SSE,SSE2,SSE3\n",
            "    found = SSSE3,SSE41,POPCNT,SSE42,AVX,F16C,FMA3,AVX2\n",
            "    not found = AVX512F,AVX512CD,AVX512_KNL,AVX512_KNM,AVX512_SKX,AVX512_CLX,AVX512_CNL,AVX512_ICL\n"
          ]
        }
      ]
    },
    {
      "cell_type": "markdown",
      "metadata": {
        "id": "3WYbSpNVS8VX"
      },
      "source": [
        "#### 3. Create a null vector of size 10 (★☆☆) \n",
        "(**hint**: np.zeros)"
      ]
    },
    {
      "cell_type": "code",
      "execution_count": 7,
      "metadata": {
        "colab": {
          "base_uri": "https://localhost:8080/"
        },
        "id": "HzwrS2huS8VY",
        "outputId": "00c39986-a969-4518-c016-420f1fab3c49"
      },
      "outputs": [
        {
          "output_type": "execute_result",
          "data": {
            "text/plain": [
              "array([0., 0., 0., 0., 0., 0., 0., 0., 0., 0.])"
            ]
          },
          "metadata": {},
          "execution_count": 7
        }
      ],
      "source": [
        "import numpy as np\n",
        "null_vector = np.zeros(10)\n",
        "null_vector"
      ]
    },
    {
      "cell_type": "markdown",
      "metadata": {
        "id": "qGevLTL7S8VZ"
      },
      "source": [
        "#### 4.  How to find the memory size of any array (★☆☆) \n",
        "(**hint**: size, itemsize)"
      ]
    },
    {
      "cell_type": "code",
      "execution_count": 8,
      "metadata": {
        "colab": {
          "base_uri": "https://localhost:8080/"
        },
        "id": "Pxp_Rk93S8Vb",
        "outputId": "9f002b0c-d244-4211-fe3e-8cbdf083db67"
      },
      "outputs": [
        {
          "output_type": "execute_result",
          "data": {
            "text/plain": [
              "10"
            ]
          },
          "metadata": {},
          "execution_count": 8
        }
      ],
      "source": [
        "import numpy as np\n",
        "np.arange(1,100,10).size"
      ]
    },
    {
      "cell_type": "markdown",
      "metadata": {
        "id": "himC6mz0S8Vb"
      },
      "source": [
        "#### 5.  How to get the documentation of the numpy add function from the command line? (★☆☆) \n",
        "(**hint**: np.info)"
      ]
    },
    {
      "cell_type": "code",
      "execution_count": 9,
      "metadata": {
        "collapsed": true,
        "colab": {
          "base_uri": "https://localhost:8080/"
        },
        "id": "YWNgpVohS8Vc",
        "outputId": "b0693b26-3893-4cc2-a2e0-b7a7aa763f58"
      },
      "outputs": [
        {
          "output_type": "stream",
          "name": "stdout",
          "text": [
            "add(x1, x2, /, out=None, *, where=True, casting='same_kind', order='K', dtype=None, subok=True[, signature, extobj])\n",
            "\n",
            "Add arguments element-wise.\n",
            "\n",
            "Parameters\n",
            "----------\n",
            "x1, x2 : array_like\n",
            "    The arrays to be added.\n",
            "    If ``x1.shape != x2.shape``, they must be broadcastable to a common\n",
            "    shape (which becomes the shape of the output).\n",
            "out : ndarray, None, or tuple of ndarray and None, optional\n",
            "    A location into which the result is stored. If provided, it must have\n",
            "    a shape that the inputs broadcast to. If not provided or None,\n",
            "    a freshly-allocated array is returned. A tuple (possible only as a\n",
            "    keyword argument) must have length equal to the number of outputs.\n",
            "where : array_like, optional\n",
            "    This condition is broadcast over the input. At locations where the\n",
            "    condition is True, the `out` array will be set to the ufunc result.\n",
            "    Elsewhere, the `out` array will retain its original value.\n",
            "    Note that if an uninitialized `out` array is created via the default\n",
            "    ``out=None``, locations within it where the condition is False will\n",
            "    remain uninitialized.\n",
            "**kwargs\n",
            "    For other keyword-only arguments, see the\n",
            "    :ref:`ufunc docs <ufuncs.kwargs>`.\n",
            "\n",
            "Returns\n",
            "-------\n",
            "add : ndarray or scalar\n",
            "    The sum of `x1` and `x2`, element-wise.\n",
            "    This is a scalar if both `x1` and `x2` are scalars.\n",
            "\n",
            "Notes\n",
            "-----\n",
            "Equivalent to `x1` + `x2` in terms of array broadcasting.\n",
            "\n",
            "Examples\n",
            "--------\n",
            ">>> np.add(1.0, 4.0)\n",
            "5.0\n",
            ">>> x1 = np.arange(9.0).reshape((3, 3))\n",
            ">>> x2 = np.arange(3.0)\n",
            ">>> np.add(x1, x2)\n",
            "array([[  0.,   2.,   4.],\n",
            "       [  3.,   5.,   7.],\n",
            "       [  6.,   8.,  10.]])\n",
            "\n",
            "The ``+`` operator can be used as a shorthand for ``np.add`` on ndarrays.\n",
            "\n",
            ">>> x1 = np.arange(9.0).reshape((3, 3))\n",
            ">>> x2 = np.arange(3.0)\n",
            ">>> x1 + x2\n",
            "array([[ 0.,  2.,  4.],\n",
            "       [ 3.,  5.,  7.],\n",
            "       [ 6.,  8., 10.]])\n",
            "None\n"
          ]
        }
      ],
      "source": [
        "import numpy as np\n",
        "print(np.info(np.add))"
      ]
    },
    {
      "cell_type": "code",
      "execution_count": null,
      "metadata": {
        "colab": {
          "base_uri": "https://localhost:8080/"
        },
        "outputId": "9f002b0c-d244-4211-fe3e-8cbdf083db67",
        "id": "jmVg_0QRZipD"
      },
      "outputs": [
        {
          "output_type": "execute_result",
          "data": {
            "text/plain": [
              "10"
            ]
          },
          "metadata": {},
          "execution_count": 8
        }
      ],
      "source": [
        "import numpy as np\n",
        "np.arange(1,100,10).size"
      ]
    },
    {
      "cell_type": "markdown",
      "metadata": {
        "id": "5fk6MAXBS8Vd"
      },
      "source": [
        "#### 6.  Create a null vector of size 10 but the fifth value which is 1 (★☆☆) \n",
        "(**hint**: array\\[4\\])"
      ]
    },
    {
      "cell_type": "code",
      "execution_count": 12,
      "metadata": {
        "colab": {
          "base_uri": "https://localhost:8080/"
        },
        "id": "ePWecZx_S8Vd",
        "outputId": "c85a3fc7-79c2-4e41-9e6c-e2a69056def1"
      },
      "outputs": [
        {
          "output_type": "execute_result",
          "data": {
            "text/plain": [
              "array([ 0,  0,  0,  0, 10,  0,  0, 20,  0,  0])"
            ]
          },
          "metadata": {},
          "execution_count": 12
        }
      ],
      "source": [
        "from numpy.core.getlimits import array\n",
        "import numpy as np\n",
        "def function():\n",
        "  array = np.zeros(10,dtype=int)\n",
        "  array[4] = 10\n",
        "  array[7] = 20\n",
        "  return array\n",
        "function()"
      ]
    },
    {
      "cell_type": "markdown",
      "metadata": {
        "id": "-Yrcc9mkS8Ve"
      },
      "source": [
        "#### 7.  Create a vector with values ranging from 10 to 49 (★☆☆) \n",
        "(**hint**: np.arange)"
      ]
    },
    {
      "cell_type": "code",
      "execution_count": 13,
      "metadata": {
        "colab": {
          "base_uri": "https://localhost:8080/"
        },
        "id": "zi1IcBVkS8Vf",
        "outputId": "60464271-9bb0-4ad0-f86a-633a3b861bd8"
      },
      "outputs": [
        {
          "output_type": "execute_result",
          "data": {
            "text/plain": [
              "array([10, 11, 12, 13, 14, 15, 16, 17, 18, 19, 20, 21, 22, 23, 24, 25, 26,\n",
              "       27, 28, 29, 30, 31, 32, 33, 34, 35, 36, 37, 38, 39, 40, 41, 42, 43,\n",
              "       44, 45, 46, 47, 48])"
            ]
          },
          "metadata": {},
          "execution_count": 13
        }
      ],
      "source": [
        "import numpy as np\n",
        "array = np.arange(10,49)\n",
        "array"
      ]
    },
    {
      "cell_type": "markdown",
      "metadata": {
        "id": "QcvaD1KlS8Vf"
      },
      "source": [
        "#### 8.  Reverse a vector (first element becomes last) (★☆☆) \n",
        "(**hint**: array\\[::-1\\])"
      ]
    },
    {
      "cell_type": "code",
      "execution_count": 14,
      "metadata": {
        "colab": {
          "base_uri": "https://localhost:8080/"
        },
        "id": "MEhZQ4cAS8Vg",
        "outputId": "3b59d59c-86da-49b1-9108-a938429d060d"
      },
      "outputs": [
        {
          "output_type": "execute_result",
          "data": {
            "text/plain": [
              "array([1, 2, 3, 4, 5, 6, 7, 8, 9])"
            ]
          },
          "metadata": {},
          "execution_count": 14
        }
      ],
      "source": [
        "import numpy as np\n",
        "array = np.arange(1,10)\n",
        "array"
      ]
    },
    {
      "cell_type": "markdown",
      "metadata": {
        "id": "GQP_FYtcS8Vg"
      },
      "source": [
        "#### 9.  Create a 3x3 matrix with values ranging from 0 to 8 (★☆☆) \n",
        "(**hint**: reshape)"
      ]
    },
    {
      "cell_type": "code",
      "execution_count": 21,
      "metadata": {
        "colab": {
          "base_uri": "https://localhost:8080/"
        },
        "id": "hhYOwVp0S8Vh",
        "outputId": "035f8577-15b3-4302-d1a1-9dd8cfada76b"
      },
      "outputs": [
        {
          "output_type": "stream",
          "name": "stdout",
          "text": [
            "[[ 2  3  4]\n",
            " [ 5  6  7]\n",
            " [ 8  9 10]]\n"
          ]
        }
      ],
      "source": [
        "import numpy as np\n",
        "x = np.arange(2,11).reshape(3,3)\n",
        "print(x)"
      ]
    },
    {
      "cell_type": "markdown",
      "metadata": {
        "id": "6eSpibzwS8Vh"
      },
      "source": [
        "#### 10. Find indices of non-zero elements from \\[1,2,0,0,4,0\\] (★☆☆) \n",
        "(**hint**: np.nonzero)"
      ]
    },
    {
      "cell_type": "code",
      "execution_count": 22,
      "metadata": {
        "colab": {
          "base_uri": "https://localhost:8080/"
        },
        "id": "FD7CHwx5S8Vi",
        "outputId": "7a46798a-91e7-4651-e1d6-32b0ec7e6b41"
      },
      "outputs": [
        {
          "output_type": "stream",
          "name": "stdout",
          "text": [
            "Numbers = [1, 2, 0, 0, 4, 0]\n",
            "(array([0, 1, 4]),)\n"
          ]
        }
      ],
      "source": [
        "import numpy as np\n",
        "numbers = [1,2,0,0,4,0]\n",
        "print(f\"Numbers = {numbers}\")\n",
        "zerosIndices = np.nonzero (numbers)\n",
        "print(zerosIndices)"
      ]
    },
    {
      "cell_type": "markdown",
      "metadata": {
        "id": "i_DCYl5yS8Vj"
      },
      "source": [
        "#### 11. Create a 3x3 identity matrix (★☆☆) \n",
        "(**hint**: np.eye)"
      ]
    },
    {
      "cell_type": "code",
      "execution_count": 23,
      "metadata": {
        "colab": {
          "base_uri": "https://localhost:8080/"
        },
        "id": "v8mugnLJS8Vj",
        "outputId": "e33c3266-6357-4b12-a46d-87744c6197b5"
      },
      "outputs": [
        {
          "output_type": "execute_result",
          "data": {
            "text/plain": [
              "array([[1., 0., 0.],\n",
              "       [0., 1., 0.],\n",
              "       [0., 0., 1.]])"
            ]
          },
          "metadata": {},
          "execution_count": 23
        }
      ],
      "source": [
        "import numpy as np\n",
        "eye = np.eye(3)\n",
        "eye"
      ]
    },
    {
      "cell_type": "markdown",
      "metadata": {
        "id": "aWQPf16eS8Vk"
      },
      "source": [
        "#### 12. Create a 3x3x3 array with random values (★☆☆) \n",
        "(**hint**: np.random.random)"
      ]
    },
    {
      "cell_type": "code",
      "execution_count": 25,
      "metadata": {
        "collapsed": true,
        "colab": {
          "base_uri": "https://localhost:8080/"
        },
        "id": "n644jsgsS8Vk",
        "outputId": "9114b7ce-4e2b-4da8-f328-a2051343621b"
      },
      "outputs": [
        {
          "output_type": "stream",
          "name": "stdout",
          "text": [
            "[[[0.07266327 0.43179744 0.76276679]\n",
            "  [0.63906497 0.16433602 0.41531742]\n",
            "  [0.78154287 0.41703488 0.98245522]]\n",
            "\n",
            " [[0.70576478 0.30716553 0.21459715]\n",
            "  [0.18597381 0.45283406 0.88909862]\n",
            "  [0.55066713 0.74530253 0.39517432]]\n",
            "\n",
            " [[0.23470105 0.06765544 0.57826808]\n",
            "  [0.45767843 0.50426199 0.68432769]\n",
            "  [0.20874395 0.68514407 0.06437123]]]\n"
          ]
        }
      ],
      "source": [
        "import numpy as np\n",
        "a = np.random.random((3,3,3))\n",
        "print(a)"
      ]
    },
    {
      "cell_type": "markdown",
      "metadata": {
        "id": "wTtqRIhJS8Vk"
      },
      "source": [
        "#### 13. Create a 10x10 array with random values and find the minimum and maximum values (★☆☆) \n",
        "(**hint**: min, max)"
      ]
    },
    {
      "cell_type": "code",
      "execution_count": 4,
      "metadata": {
        "colab": {
          "base_uri": "https://localhost:8080/"
        },
        "id": "jrc_svVkS8Vl",
        "outputId": "5c5cfc67-7c21-4a6e-bcee-96aaee79e438"
      },
      "outputs": [
        {
          "output_type": "execute_result",
          "data": {
            "text/plain": [
              "array([[52, 71,  1, 47, 10, 34, 58, 98, 15, 54],\n",
              "       [88, 36, 48, 97, 28, 89, 92, 53, 56, 76],\n",
              "       [60, 53, 71, 99,  5, 97, 65, 45, 80, 80],\n",
              "       [10, 50, 67, 84, 92, 28, 15, 64, 12, 14],\n",
              "       [67, 19, 14, 88, 15, 39, 91, 41, 38, 27],\n",
              "       [56, 61, 45, 57, 61, 21, 16, 57, 89, 41],\n",
              "       [72, 81, 66,  9, 53, 77, 56, 96, 94, 93],\n",
              "       [70, 43, 16, 52,  9, 65, 47, 82, 63, 55],\n",
              "       [31, 71, 35, 99, 10, 66, 26, 15, 17, 54],\n",
              "       [29,  4, 43, 47, 62, 15, 30, 25, 92,  9]])"
            ]
          },
          "metadata": {},
          "execution_count": 4
        }
      ],
      "source": [
        "import numpy as np\n",
        "array = np.random.randint (100, size=(10,10))\n",
        "array"
      ]
    },
    {
      "cell_type": "markdown",
      "metadata": {
        "id": "I0JGYwPSS8Vl"
      },
      "source": [
        "#### 14. Create a random vector of size 30 and find the mean value (★☆☆) \n",
        "(**hint**: mean)"
      ]
    },
    {
      "cell_type": "code",
      "execution_count": 67,
      "metadata": {
        "colab": {
          "base_uri": "https://localhost:8080/"
        },
        "id": "lsJeTrniS8Vl",
        "outputId": "889e8b04-138f-41ad-cc51-ad36a871f229"
      },
      "outputs": [
        {
          "output_type": "execute_result",
          "data": {
            "text/plain": [
              "0.44499587617709757"
            ]
          },
          "metadata": {},
          "execution_count": 67
        }
      ],
      "source": [
        "import numpy as np\n",
        "arr = np.random.rand(30)\n",
        "arr.mean()"
      ]
    },
    {
      "cell_type": "markdown",
      "metadata": {
        "id": "a3UdpsQdS8Vl"
      },
      "source": [
        "#### 15. Create a 2d array with 1 on the border and 0 inside (★☆☆) \n",
        "(**hint**: array\\[1:-1, 1:-1\\])"
      ]
    },
    {
      "cell_type": "code",
      "execution_count": 66,
      "metadata": {
        "colab": {
          "base_uri": "https://localhost:8080/"
        },
        "id": "xAGastBwS8Vm",
        "outputId": "c4a9b888-68de-4f5f-806a-d05058d64d7d"
      },
      "outputs": [
        {
          "output_type": "execute_result",
          "data": {
            "text/plain": [
              "array([[1, 1, 1, 1, 1],\n",
              "       [1, 0, 0, 0, 1],\n",
              "       [1, 0, 0, 0, 1],\n",
              "       [1, 0, 0, 0, 1],\n",
              "       [1, 1, 1, 1, 1]])"
            ]
          },
          "metadata": {},
          "execution_count": 66
        }
      ],
      "source": [
        "import numpy as np\n",
        "arr = np.ones((5,5),dtype = 'int')\n",
        "arr[1:-1,1:-1] = np.zeros((3,3),dtype = 'int')\n",
        "arr"
      ]
    },
    {
      "cell_type": "markdown",
      "metadata": {
        "id": "YQfQvrFGS8Vm"
      },
      "source": [
        "#### 16. How to add a border (filled with 0's) around an existing array? (★☆☆) \n",
        "(**hint**: np.pad)"
      ]
    },
    {
      "cell_type": "code",
      "execution_count": 65,
      "metadata": {
        "colab": {
          "base_uri": "https://localhost:8080/"
        },
        "id": "uRCozs8XS8Vm",
        "outputId": "53220459-d8b7-452c-c3aa-a6892647ff30"
      },
      "outputs": [
        {
          "output_type": "execute_result",
          "data": {
            "text/plain": [
              "array([[0.        , 0.        , 0.        , 0.        , 0.        ,\n",
              "        0.        , 0.        ],\n",
              "       [0.        , 0.78025352, 0.14926268, 0.60936799, 0.54708011,\n",
              "        0.63214574, 0.        ],\n",
              "       [0.        , 0.7739816 , 0.04231225, 0.33672769, 0.11607516,\n",
              "        0.28116439, 0.        ],\n",
              "       [0.        , 0.63817122, 0.11562045, 0.46728992, 0.56544941,\n",
              "        0.99631463, 0.        ],\n",
              "       [0.        , 0.02518262, 0.92408077, 0.59943243, 0.25190651,\n",
              "        0.70206869, 0.        ],\n",
              "       [0.        , 0.2405902 , 0.09150385, 0.10872584, 0.51173195,\n",
              "        0.44290944, 0.        ],\n",
              "       [0.        , 0.        , 0.        , 0.        , 0.        ,\n",
              "        0.        , 0.        ]])"
            ]
          },
          "metadata": {},
          "execution_count": 65
        }
      ],
      "source": [
        "import numpy as np\n",
        "arr = np.random.random((5,5))\n",
        "arr = np.pad(arr,pad_width=(1,1),mode = 'constant',constant_values = 0)\n",
        "arr"
      ]
    },
    {
      "cell_type": "markdown",
      "metadata": {
        "id": "_OdC3IzqS8Vn"
      },
      "source": [
        "#### 17. What is the result of the following expression? (★☆☆) \n",
        "(**hint**: NaN = not a number, inf = infinity)"
      ]
    },
    {
      "cell_type": "markdown",
      "metadata": {
        "id": "rI296kG-S8Vn"
      },
      "source": [
        "```python\n",
        "0 * np.nan\n",
        "np.nan == np.nan\n",
        "np.inf > np.nan\n",
        "np.nan - np.nan\n",
        "0.3 == 3 * 0.1\n",
        "```"
      ]
    },
    {
      "cell_type": "code",
      "execution_count": 64,
      "metadata": {
        "colab": {
          "base_uri": "https://localhost:8080/"
        },
        "id": "LrBbOd9DS8Vo",
        "outputId": "ead86d4f-6b1b-4b15-b0a2-3e8c220e3613"
      },
      "outputs": [
        {
          "output_type": "execute_result",
          "data": {
            "text/plain": [
              "True"
            ]
          },
          "metadata": {},
          "execution_count": 64
        }
      ],
      "source": [
        "np.nan in set([np.nan])"
      ]
    },
    {
      "cell_type": "markdown",
      "metadata": {
        "id": "tmMFOaGBS8Vo"
      },
      "source": [
        "#### 18. Create a 5x5 matrix with values 1,2,3,4 just below the diagonal (★☆☆) \n",
        "(**hint**: np.diag)"
      ]
    },
    {
      "cell_type": "code",
      "execution_count": 6,
      "metadata": {
        "colab": {
          "base_uri": "https://localhost:8080/"
        },
        "id": "cY-VPLI6S8Vp",
        "outputId": "e48b0e85-a140-45c9-d1de-df77b48caafc"
      },
      "outputs": [
        {
          "output_type": "execute_result",
          "data": {
            "text/plain": [
              "array([[0, 0, 0, 0, 0],\n",
              "       [1, 0, 0, 0, 0],\n",
              "       [0, 2, 0, 0, 0],\n",
              "       [0, 0, 3, 0, 0],\n",
              "       [0, 0, 0, 4, 0]])"
            ]
          },
          "metadata": {},
          "execution_count": 6
        }
      ],
      "source": [
        "arr = np.diag((1,2,3,4))\n",
        "arr = np.pad(arr,pad_width = ((1,0),(0,1)),mode = 'constant')\n",
        "arr"
      ]
    },
    {
      "cell_type": "markdown",
      "metadata": {
        "id": "mq4rgQp1S8Vp"
      },
      "source": [
        "#### 19. Create a 8x8 matrix and fill it with a checkerboard pattern (★☆☆) \n",
        "(**hint**: array\\[::2\\])"
      ]
    },
    {
      "cell_type": "code",
      "execution_count": 3,
      "metadata": {
        "colab": {
          "base_uri": "https://localhost:8080/"
        },
        "id": "Ke0idcAqS8Vp",
        "outputId": "a57c6ea9-9f06-429a-d4b8-1d043749cf84"
      },
      "outputs": [
        {
          "output_type": "stream",
          "name": "stdout",
          "text": [
            "checkeboard pattern:\n",
            "[[0 1 0 1 0 1 0 1]\n",
            " [1 0 1 0 1 0 1 0]\n",
            " [0 1 0 1 0 1 0 1]\n",
            " [1 0 1 0 1 0 1 0]\n",
            " [0 1 0 1 0 1 0 1]\n",
            " [1 0 1 0 1 0 1 0]\n",
            " [0 1 0 1 0 1 0 1]\n",
            " [1 0 1 0 1 0 1 0]]\n"
          ]
        }
      ],
      "source": [
        "import numpy as np\n",
        "x = np.ones((3,3))\n",
        "print(\"checkeboard pattern:\")\n",
        "x =np.zeros((8,8),dtype=int)\n",
        "x[1::2,::2]=1\n",
        "x[::2,1::2]=1\n",
        "print(x)\n"
      ]
    },
    {
      "cell_type": "markdown",
      "metadata": {
        "id": "P2Bgc3O0S8Vp"
      },
      "source": [
        "#### 20. Consider a (6,7,8) shape array, what is the index (x,y,z) of the 100th element? \n",
        "(**hint**: np.unravel_index)"
      ]
    },
    {
      "cell_type": "code",
      "execution_count": 7,
      "metadata": {
        "colab": {
          "base_uri": "https://localhost:8080/"
        },
        "id": "1A2FUWyfS8Vq",
        "outputId": "e3c33d3a-e6b4-4b25-dada-83e3c6a6b6af"
      },
      "outputs": [
        {
          "output_type": "execute_result",
          "data": {
            "text/plain": [
              "99"
            ]
          },
          "metadata": {},
          "execution_count": 7
        }
      ],
      "source": [
        "import numpy as np\n",
        "arr = np.arange(6*7*8).reshape(6,7,8)\n",
        "arr[1,5,3]"
      ]
    },
    {
      "cell_type": "markdown",
      "metadata": {
        "id": "C4Iwkry4S8Vq"
      },
      "source": [
        "#### 21. Create a checkerboard 8x8 matrix using the tile function (★☆☆) \n",
        "(**hint**: np.tile)"
      ]
    },
    {
      "cell_type": "code",
      "execution_count": 4,
      "metadata": {
        "colab": {
          "base_uri": "https://localhost:8080/"
        },
        "id": "r5S4RXysS8Vq",
        "outputId": "ffc6ed18-1754-4265-fa12-e800a656638c"
      },
      "outputs": [
        {
          "output_type": "stream",
          "name": "stdout",
          "text": [
            "checkeboard pattern:\n",
            "[[0 1 0 1 0 1 0 1]\n",
            " [1 0 1 0 1 0 1 0]\n",
            " [0 1 0 1 0 1 0 1]\n",
            " [1 0 1 0 1 0 1 0]\n",
            " [0 1 0 1 0 1 0 1]\n",
            " [1 0 1 0 1 0 1 0]\n",
            " [0 1 0 1 0 1 0 1]\n",
            " [1 0 1 0 1 0 1 0]]\n"
          ]
        }
      ],
      "source": [
        "import numpy as np\n",
        "x = np.ones((3,3))\n",
        "print(\"checkeboard pattern:\")\n",
        "x =np.zeros((8,8),dtype=int)\n",
        "x[1::2,::2]=1\n",
        "x[::2,1::2]=1\n",
        "print(x)"
      ]
    },
    {
      "cell_type": "markdown",
      "metadata": {
        "id": "yFATMOXbS8Vr"
      },
      "source": [
        "#### 22. Normalize a 5x5 random matrix (★☆☆) \n",
        "(**hint**: (x - min) / (max - min))"
      ]
    },
    {
      "cell_type": "code",
      "execution_count": 9,
      "metadata": {
        "colab": {
          "base_uri": "https://localhost:8080/"
        },
        "id": "wn120CTDS8Vs",
        "outputId": "c21aeb86-c82e-4ec4-d69a-41483b438180"
      },
      "outputs": [
        {
          "output_type": "stream",
          "name": "stdout",
          "text": [
            "[[0.33971351 0.81352322 0.97434269 0.         0.27566222]\n",
            " [0.71687909 0.1373061  0.43636682 0.66489872 0.86269264]\n",
            " [0.43800704 0.64782732 0.09329484 0.74059839 0.57294913]\n",
            " [0.90400718 0.9014805  0.56033653 0.1741733  1.        ]\n",
            " [0.51924436 0.29317724 0.41833482 0.23144094 0.24070022]]\n",
            "float64\n"
          ]
        }
      ],
      "source": [
        "import numpy as np\n",
        "arr = np.random.random((5,5)).astype('d')\n",
        "arr_max,arr_min = arr.max(),arr.min()\n",
        "\n",
        "arr = (arr-arr_min)/(arr_max - arr_min)\n",
        "print(arr)\n",
        "print(arr.dtype)"
      ]
    },
    {
      "cell_type": "markdown",
      "metadata": {
        "id": "609AVh5QS8WG"
      },
      "source": [
        "#### 23. Create a custom dtype that describes a color as four unsigned bytes (RGBA) (★☆☆) \n",
        "(**hint**: np.dtype)"
      ]
    },
    {
      "cell_type": "code",
      "execution_count": 10,
      "metadata": {
        "collapsed": true,
        "colab": {
          "base_uri": "https://localhost:8080/"
        },
        "id": "PaA-qlz3S8WH",
        "outputId": "8fef9651-6101-4aa6-b72f-519ffbf688ea"
      },
      "outputs": [
        {
          "output_type": "stream",
          "name": "stdout",
          "text": [
            "1\n"
          ]
        },
        {
          "output_type": "execute_result",
          "data": {
            "text/plain": [
              "numpy.ndarray"
            ]
          },
          "metadata": {},
          "execution_count": 10
        }
      ],
      "source": [
        "import numpy as np\n",
        "RGBA = np.dtype([('red',np.uint8),('green',np.uint8),('blue',np.uint8),('alpha',np.uint8)])\n",
        "color = np.array((1,2,4,3),dtype = RGBA)\n",
        "print(color['red'])\n",
        "type(color)"
      ]
    },
    {
      "cell_type": "markdown",
      "metadata": {
        "id": "Rg0Lp2iqS8WH"
      },
      "source": [
        "#### 24. Multiply a 5x3 matrix by a 3x2 matrix (real matrix product) (★☆☆) \n",
        "(**hint**: np.dot | @)"
      ]
    },
    {
      "cell_type": "code",
      "execution_count": 11,
      "metadata": {
        "colab": {
          "base_uri": "https://localhost:8080/"
        },
        "id": "FsjIiPvhS8WI",
        "outputId": "c7114823-7218-4ab3-bc64-0a7421997fd6"
      },
      "outputs": [
        {
          "output_type": "stream",
          "name": "stdout",
          "text": [
            "[[1.13196142 0.99794807]\n",
            " [1.03405979 0.61838928]\n",
            " [0.92281494 0.84016973]\n",
            " [0.18119879 0.37036087]\n",
            " [0.74286453 1.10237577]]\n"
          ]
        },
        {
          "output_type": "execute_result",
          "data": {
            "text/plain": [
              "array([[1.13196142, 0.99794807],\n",
              "       [1.03405979, 0.61838928],\n",
              "       [0.92281494, 0.84016973],\n",
              "       [0.18119879, 0.37036087],\n",
              "       [0.74286453, 1.10237577]])"
            ]
          },
          "metadata": {},
          "execution_count": 11
        }
      ],
      "source": [
        "import numpy as np\n",
        "arr_1 = np.random.random((5,3))\n",
        "arr_2 = np.random.random((3,2))\n",
        "print(arr_1 @ arr_2)\n",
        "np.dot(arr_1,arr_2)"
      ]
    },
    {
      "cell_type": "markdown",
      "metadata": {
        "id": "HzASQ65yS8WI"
      },
      "source": [
        "#### 25. Given a 1D array, negate all elements which are between 3 and 8, in place. (★☆☆) \n",
        "(**hint**: >, <=)"
      ]
    },
    {
      "cell_type": "code",
      "execution_count": 12,
      "metadata": {
        "colab": {
          "base_uri": "https://localhost:8080/"
        },
        "id": "fEDEtWZpS8WI",
        "outputId": "ca2d4b50-468e-4887-ba23-f5e88d9e41e1"
      },
      "outputs": [
        {
          "output_type": "stream",
          "name": "stdout",
          "text": [
            "[False False False  True  True  True  True  True  True  True  True  True\n",
            "  True  True  True  True]\n",
            "[ 0  1  2 -3 -4 -5 -6 -7 -8  9 10 11 12 13 14 15]\n"
          ]
        }
      ],
      "source": [
        "import numpy as np\n",
        "arr = np.arange(16)\n",
        "print(arr>=3)\n",
        "arr[(arr>=3) & (arr<=8)]*=(-1)\n",
        "print(arr)\n",
        "\n",
        "arr = np.arange(16)"
      ]
    },
    {
      "cell_type": "markdown",
      "metadata": {
        "id": "M2uSr0DMS8WJ"
      },
      "source": [
        "#### 26. What is the output of the following script? (★☆☆) \n",
        "(**hint**: np.sum)"
      ]
    },
    {
      "cell_type": "markdown",
      "metadata": {
        "id": "-CWADuIfS8WJ"
      },
      "source": [
        "```python\n",
        "# Author: Jake VanderPlas\n",
        "\n",
        "print(sum(range(5),-1))\n",
        "from numpy import *\n",
        "print(sum(range(5),-1))\n",
        "```"
      ]
    },
    {
      "cell_type": "code",
      "execution_count": 13,
      "metadata": {
        "colab": {
          "base_uri": "https://localhost:8080/"
        },
        "id": "Z9K-VkJbS8WJ",
        "outputId": "4d291153-a675-47b3-8085-54c411de17b2"
      },
      "outputs": [
        {
          "output_type": "stream",
          "name": "stdout",
          "text": [
            "9\n",
            "10\n"
          ]
        }
      ],
      "source": [
        "import numpy as np\n",
        "print(sum(range(5),-1))\n",
        "from numpy import *\n",
        "print(sum(range(5),-1))"
      ]
    },
    {
      "cell_type": "markdown",
      "metadata": {
        "id": "tZBOgM7yS8WK"
      },
      "source": [
        "#### 27. Consider an integer vector Z, which of these expressions are legal? (★☆☆)"
      ]
    },
    {
      "cell_type": "markdown",
      "metadata": {
        "id": "I2ctfi4aS8WK"
      },
      "source": [
        "```python\n",
        "Z**Z\n",
        "2 << Z >> 2\n",
        "Z <- Z\n",
        "1j*Z\n",
        "Z/1/1\n",
        "Z<Z>Z\n",
        "```"
      ]
    },
    {
      "cell_type": "code",
      "execution_count": null,
      "metadata": {
        "id": "yQO8XukCS8WK"
      },
      "outputs": [],
      "source": []
    },
    {
      "cell_type": "markdown",
      "metadata": {
        "id": "UZePKllqS8WK"
      },
      "source": [
        "#### 28. What are the result of the following expressions?"
      ]
    },
    {
      "cell_type": "markdown",
      "metadata": {
        "id": "yy3_bXVnS8WL"
      },
      "source": [
        "```python\n",
        "np.array(0) / np.array(0)\n",
        "np.array(0) // np.array(0)\n",
        "np.array([np.nan]).astype(int).astype(float)\n",
        "```"
      ]
    },
    {
      "cell_type": "code",
      "execution_count": 14,
      "metadata": {
        "colab": {
          "base_uri": "https://localhost:8080/"
        },
        "id": "EqiPLcjlS8WL",
        "outputId": "c6e1c2d8-948d-476f-8f83-b92bf33b21e1"
      },
      "outputs": [
        {
          "output_type": "execute_result",
          "data": {
            "text/plain": [
              "array([-9.22337204e+18])"
            ]
          },
          "metadata": {},
          "execution_count": 14
        }
      ],
      "source": [
        "import numpy as np\n",
        "np.array([np.nan]).astype(int).astype(float)"
      ]
    },
    {
      "cell_type": "markdown",
      "metadata": {
        "id": "gYdzW-SOS8WL"
      },
      "source": [
        "#### 29. How to round away from zero a float array ? (★☆☆) \n",
        "(**hint**: np.uniform, np.copysign, np.ceil, np.abs)"
      ]
    },
    {
      "cell_type": "code",
      "execution_count": 15,
      "metadata": {
        "colab": {
          "base_uri": "https://localhost:8080/"
        },
        "id": "dtlCDlX_S8WM",
        "outputId": "8d8f1167-9551-4220-e6aa-f27886eea243"
      },
      "outputs": [
        {
          "output_type": "stream",
          "name": "stdout",
          "text": [
            "[[0.89099987 0.10116352 0.28262855 0.49298842 0.84205571]\n",
            " [0.84919734 0.76336428 0.08817448 0.57730752 0.54961657]\n",
            " [0.9045183  0.93471577 0.11594757 0.26825793 0.11969555]\n",
            " [0.75265527 0.15779996 0.76281639 0.72524291 0.21450159]\n",
            " [0.96070121 0.22739062 0.34081474 0.92407449 0.52245767]]\n",
            "[[0.89 0.1  0.28 0.49 0.84]\n",
            " [0.85 0.76 0.09 0.58 0.55]\n",
            " [0.9  0.93 0.12 0.27 0.12]\n",
            " [0.75 0.16 0.76 0.73 0.21]\n",
            " [0.96 0.23 0.34 0.92 0.52]]\n"
          ]
        }
      ],
      "source": [
        "import numpy as np\n",
        "arr = np.random.random((5,5))\n",
        "print(arr)\n",
        "arr = np.round(arr,2)\n",
        "print(arr)"
      ]
    },
    {
      "cell_type": "markdown",
      "metadata": {
        "id": "2qAKItaLS8WM"
      },
      "source": [
        "#### 30. How to find common values between two arrays? (★☆☆) \n",
        "(**hint**: np.intersect1d)"
      ]
    },
    {
      "cell_type": "code",
      "execution_count": 21,
      "metadata": {
        "colab": {
          "base_uri": "https://localhost:8080/",
          "height": 130
        },
        "id": "S3JkJeMnS8WM",
        "outputId": "076873f9-af78-44fb-a756-460314e748c4"
      },
      "outputs": [
        {
          "output_type": "error",
          "ename": "SyntaxError",
          "evalue": "ignored",
          "traceback": [
            "\u001b[0;36m  File \u001b[0;32m\"<ipython-input-21-842c3badb982>\"\u001b[0;36m, line \u001b[0;32m8\u001b[0m\n\u001b[0;31m    def find_common()\u001b[0m\n\u001b[0m                     ^\u001b[0m\n\u001b[0;31mSyntaxError\u001b[0m\u001b[0;31m:\u001b[0m invalid syntax\n"
          ]
        }
      ],
      "source": [
        "import numpy as np\n",
        "arr_1 = np.arange(9).reshape(3,3)\n",
        "arr_2 = np.array([[0,1,2],[3,4,5],[1,1,1]])\n",
        "\n",
        "indices = [i for i,x,y in enumerate(arr_1,arr_2) if (x ==y)]\n",
        "indices = (arr_1 == arr_2)\n",
        "arr_1[indices]\n",
        "def find_common()"
      ]
    },
    {
      "cell_type": "markdown",
      "metadata": {
        "id": "y032OvvWS8WM"
      },
      "source": [
        "#### 31. How to ignore all numpy warnings (not recommended)? (★☆☆) \n",
        "(**hint**: np.seterr, np.errstate)"
      ]
    },
    {
      "cell_type": "code",
      "execution_count": 23,
      "metadata": {
        "id": "cR2qvCTxS8WN"
      },
      "outputs": [],
      "source": [
        "import numpy as np\n",
        "defaults = np.seterr(all=\"ignore\")\n",
        "Z = np.ones(1) / 0\n",
        "\n",
        "_ = np.seterr(**defaults)\n",
        "\n",
        "with np.errstate(divide='ignore'):\n",
        "     Z = np.ones(1) / 0"
      ]
    },
    {
      "cell_type": "markdown",
      "metadata": {
        "id": "P4zxYVPVS8WN"
      },
      "source": [
        "#### 32. Is the following expressions true? (★☆☆) \n",
        "(**hint**: imaginary number)"
      ]
    },
    {
      "cell_type": "markdown",
      "metadata": {
        "id": "Rd5diJJnS8WN"
      },
      "source": [
        "```python\n",
        "np.sqrt(-1) == np.emath.sqrt(-1)\n",
        "```"
      ]
    },
    {
      "cell_type": "code",
      "execution_count": 24,
      "metadata": {
        "colab": {
          "base_uri": "https://localhost:8080/"
        },
        "id": "KrolnZY2S8WN",
        "outputId": "d12a53e9-a234-4f24-ea48-e65e91f82b9a"
      },
      "outputs": [
        {
          "output_type": "stream",
          "name": "stderr",
          "text": [
            "/usr/local/lib/python3.7/dist-packages/ipykernel_launcher.py:1: RuntimeWarning: invalid value encountered in sqrt\n",
            "  \"\"\"Entry point for launching an IPython kernel.\n"
          ]
        },
        {
          "output_type": "execute_result",
          "data": {
            "text/plain": [
              "False"
            ]
          },
          "metadata": {},
          "execution_count": 24
        }
      ],
      "source": [
        "np.sqrt(-1) == np.emath.sqrt(-1)"
      ]
    },
    {
      "cell_type": "markdown",
      "metadata": {
        "id": "cFjf7S91S8WO"
      },
      "source": [
        "#### 33. How to get the dates of yesterday, today and tomorrow? (★☆☆) \n",
        "(**hint**: np.datetime64, np.timedelta64)"
      ]
    },
    {
      "cell_type": "code",
      "execution_count": 27,
      "metadata": {
        "collapsed": true,
        "id": "c-4gMN9GS8WO"
      },
      "outputs": [],
      "source": [
        "import numpy as np\n",
        "yesterday = np.datetime64('today', 'D') - np.timedelta64(1, 'D')\n",
        "today     = np.datetime64('today', 'D')\n",
        "tomorrow  = np.datetime64('today', 'D') + np.timedelta64(1, 'D')"
      ]
    },
    {
      "cell_type": "markdown",
      "metadata": {
        "id": "l_QB-QL7S8WO"
      },
      "source": [
        "#### 34. How to get all the dates corresponding to the month of July 2016? (★★☆) \n",
        "(**hint**: np.arange(dtype=datetime64\\['D'\\]))"
      ]
    },
    {
      "cell_type": "code",
      "execution_count": 29,
      "metadata": {
        "colab": {
          "base_uri": "https://localhost:8080/"
        },
        "id": "IzUETqgCS8WO",
        "outputId": "246c2142-874d-41f3-fa6e-c06ad5c2cbff"
      },
      "outputs": [
        {
          "output_type": "stream",
          "name": "stdout",
          "text": [
            "['2016-07-01' '2016-07-02' '2016-07-03' '2016-07-04' '2016-07-05'\n",
            " '2016-07-06' '2016-07-07' '2016-07-08' '2016-07-09' '2016-07-10'\n",
            " '2016-07-11' '2016-07-12' '2016-07-13' '2016-07-14' '2016-07-15'\n",
            " '2016-07-16' '2016-07-17' '2016-07-18' '2016-07-19' '2016-07-20'\n",
            " '2016-07-21' '2016-07-22' '2016-07-23' '2016-07-24' '2016-07-25'\n",
            " '2016-07-26' '2016-07-27' '2016-07-28' '2016-07-29' '2016-07-30'\n",
            " '2016-07-31']\n"
          ]
        }
      ],
      "source": [
        "import numpy as np\n",
        "A = np.arange('2016-07', '2016-08', dtype='datetime64[D]')\n",
        "print(A)"
      ]
    },
    {
      "cell_type": "markdown",
      "metadata": {
        "id": "51-VtHv1S8WP"
      },
      "source": [
        "#### 35. How to compute ((A+B)\\*(-A/2)) in place (without copy)? (★★☆) \n",
        "(**hint**: np.add(out=), np.negative(out=), np.multiply(out=), np.divide(out=))"
      ]
    },
    {
      "cell_type": "code",
      "execution_count": 30,
      "metadata": {
        "colab": {
          "base_uri": "https://localhost:8080/"
        },
        "id": "fz9SxP9lS8WP",
        "outputId": "6f0e1541-02f5-4bde-c8b0-31d8710e9f8b"
      },
      "outputs": [
        {
          "output_type": "execute_result",
          "data": {
            "text/plain": [
              "-4.5"
            ]
          },
          "metadata": {},
          "execution_count": 30
        }
      ],
      "source": [
        "import numpy as np\n",
        "A = np.ones(3)*1\n",
        "B = np.ones(3)*2\n",
        "C = np.ones(3)*3\n",
        "np.add(A,B,out=B)\n",
        "np.divide(A,2,out=A)\n",
        "np.negative(A,out=A)\n",
        "np.dot(A,B)"
      ]
    },
    {
      "cell_type": "markdown",
      "metadata": {
        "id": "mtWSIIVcS8WQ"
      },
      "source": [
        "#### 36. Extract the integer part of a random array using 5 different methods (★★☆) \n",
        "(**hint**: %, np.floor, np.ceil, astype, np.trunc)"
      ]
    },
    {
      "cell_type": "code",
      "execution_count": 31,
      "metadata": {
        "colab": {
          "base_uri": "https://localhost:8080/"
        },
        "id": "G_j_3friS8WQ",
        "outputId": "8f24aca1-6652-4262-efad-771a002c8e1f"
      },
      "outputs": [
        {
          "output_type": "stream",
          "name": "stdout",
          "text": [
            "[3. 3. 2. 4. 6. 3. 2. 2. 3. 2.]\n",
            "[3. 3. 2. 4. 6. 3. 2. 2. 3. 2.]\n",
            "[3. 3. 2. 4. 6. 3. 2. 2. 3. 2.]\n",
            "[3 3 2 4 6 3 2 2 3 2]\n"
          ]
        }
      ],
      "source": [
        "import numpy as np\n",
        "Z = np.random.uniform(0,10,10)\n",
        "\n",
        "print (Z - Z%1)\n",
        "print (np.floor(Z))\n",
        "print (np.ceil(Z)-1)\n",
        "print (Z.astype(int))"
      ]
    },
    {
      "cell_type": "markdown",
      "metadata": {
        "id": "1kmoOru3S8WQ"
      },
      "source": [
        "#### 37. Create a 5x5 matrix with row values ranging from 0 to 4 (★★☆) \n",
        "(**hint**: np.arange)"
      ]
    },
    {
      "cell_type": "code",
      "execution_count": 32,
      "metadata": {
        "colab": {
          "base_uri": "https://localhost:8080/"
        },
        "id": "t39XRJThS8WR",
        "outputId": "c8b71544-cf3a-4001-ae32-a945884fda4a"
      },
      "outputs": [
        {
          "output_type": "stream",
          "name": "stdout",
          "text": [
            "[[0. 1. 2. 3. 4.]\n",
            " [0. 1. 2. 3. 4.]\n",
            " [0. 1. 2. 3. 4.]\n",
            " [0. 1. 2. 3. 4.]\n",
            " [0. 1. 2. 3. 4.]]\n"
          ]
        }
      ],
      "source": [
        "import numpy as np\n",
        "Z = np.zeros((5,5))\n",
        "Z += np.arange(5)\n",
        "print(Z)"
      ]
    },
    {
      "cell_type": "markdown",
      "metadata": {
        "id": "Epw7gtZ7S8WR"
      },
      "source": [
        "#### 38. Consider a generator function that generates 10 integers and use it to build an array (★☆☆) \n",
        "(**hint**: np.fromiter)"
      ]
    },
    {
      "cell_type": "code",
      "execution_count": 33,
      "metadata": {
        "colab": {
          "base_uri": "https://localhost:8080/"
        },
        "id": "ossokqgaS8WR",
        "outputId": "05b8bb23-34c3-4875-c2a3-8c83655074fe"
      },
      "outputs": [
        {
          "output_type": "stream",
          "name": "stdout",
          "text": [
            "[0. 1. 2. 3. 4. 5. 6. 7. 8. 9.]\n"
          ]
        }
      ],
      "source": [
        "import numpy as np\n",
        "def generate():\n",
        "    for x in range(10):\n",
        "        yield x\n",
        "Z = np.fromiter(generate(),dtype=float,count=-1)\n",
        "print(Z)"
      ]
    },
    {
      "cell_type": "markdown",
      "metadata": {
        "id": "stf9RRsIS8WR"
      },
      "source": [
        "#### 39. Create a vector of size 10 with values ranging from 0 to 1, both excluded (★★☆) \n",
        "(**hint**: np.linspace)"
      ]
    },
    {
      "cell_type": "code",
      "execution_count": 34,
      "metadata": {
        "colab": {
          "base_uri": "https://localhost:8080/"
        },
        "id": "7Nue8cXPS8WS",
        "outputId": "e0c95ecc-4cd5-4613-ef4f-11ea42409c0c"
      },
      "outputs": [
        {
          "output_type": "stream",
          "name": "stdout",
          "text": [
            "[0.09090909 0.18181818 0.27272727 0.36363636 0.45454545 0.54545455\n",
            " 0.63636364 0.72727273 0.81818182 0.90909091]\n"
          ]
        }
      ],
      "source": [
        "import numpy as np\n",
        "Z = np.linspace(0,1,11,endpoint=False)[1:]\n",
        "print(Z)"
      ]
    },
    {
      "cell_type": "markdown",
      "metadata": {
        "id": "EOlOBw7uS8WS"
      },
      "source": [
        "#### 40. Create a random vector of size 10 and sort it (★★☆) \n",
        "(**hint**: sort)"
      ]
    },
    {
      "cell_type": "code",
      "execution_count": 35,
      "metadata": {
        "colab": {
          "base_uri": "https://localhost:8080/"
        },
        "id": "p7k2VrryS8WS",
        "outputId": "5c0e15a8-5122-4226-d71c-18699226903e"
      },
      "outputs": [
        {
          "output_type": "stream",
          "name": "stdout",
          "text": [
            "[0.05219895 0.17014908 0.17429854 0.23119569 0.49266747 0.76662243\n",
            " 0.81507747 0.90151919 0.9479114  0.98683495]\n"
          ]
        }
      ],
      "source": [
        "import numpy as np\n",
        "Z = np.random.random(10)\n",
        "Z.sort()\n",
        "print(Z)"
      ]
    },
    {
      "cell_type": "markdown",
      "metadata": {
        "id": "SLrWZeYnS8WS"
      },
      "source": [
        "#### 41. How to sum a small array faster than np.sum? (★★☆) \n",
        "(**hint**: np.add.reduce)"
      ]
    },
    {
      "cell_type": "code",
      "execution_count": 37,
      "metadata": {
        "colab": {
          "base_uri": "https://localhost:8080/"
        },
        "id": "FbBiPv35S8WT",
        "outputId": "6942e6b1-79e2-45cc-eb1f-83e67ce73a9c"
      },
      "outputs": [
        {
          "output_type": "execute_result",
          "data": {
            "text/plain": [
              "45"
            ]
          },
          "metadata": {},
          "execution_count": 37
        }
      ],
      "source": [
        "import numpy as np\n",
        "import functools as ft\n",
        "Z = np.arange(10)\n",
        "ft.reduce(np.add,Z,0)"
      ]
    },
    {
      "cell_type": "markdown",
      "metadata": {
        "id": "P5YmjfwYS8WT"
      },
      "source": [
        "#### 42. Consider two random array A and B, check if they are equal (★★☆) \n",
        "(**hint**: np.allclose, np.array\\_equal)"
      ]
    },
    {
      "cell_type": "code",
      "execution_count": 39,
      "metadata": {
        "colab": {
          "base_uri": "https://localhost:8080/"
        },
        "id": "yh7LHi7QS8WT",
        "outputId": "7f05aa4e-0df1-4212-df2e-f1103f0fe03f"
      },
      "outputs": [
        {
          "output_type": "stream",
          "name": "stdout",
          "text": [
            "[1 0 0 0 1]\n",
            "************************************************************\n",
            "[1 0 0 1 0]\n",
            "************************************************************\n",
            "False\n",
            "False\n"
          ]
        }
      ],
      "source": [
        "import numpy as np\n",
        "A = np.random.randint(0,2,5)\n",
        "B = np.random.randint(0,2,5)\n",
        "print(A)\n",
        "print('*'*60)\n",
        "print(B)\n",
        "print('*'*60)\n",
        "equal = np.allclose(A,B)\n",
        "print(equal)\n",
        "equal = np.array_equal(A,B)\n",
        "print(equal)"
      ]
    },
    {
      "cell_type": "markdown",
      "metadata": {
        "id": "yJGH8sDyS8WU"
      },
      "source": [
        "#### 43. Make an array immutable (read-only) (★★☆) \n",
        "(**hint**: flags.writeable)"
      ]
    },
    {
      "cell_type": "code",
      "execution_count": 41,
      "metadata": {
        "colab": {
          "base_uri": "https://localhost:8080/"
        },
        "id": "18IAcWPfS8WU",
        "outputId": "2b431324-d853-4d94-83df-ecc3e787a6ac"
      },
      "outputs": [
        {
          "output_type": "execute_result",
          "data": {
            "text/plain": [
              "0.0"
            ]
          },
          "metadata": {},
          "execution_count": 41
        }
      ],
      "source": [
        "import numpy as np\n",
        "Z = np.zeros(10)\n",
        "Z.flags.writeable = False\n",
        "Z[0] "
      ]
    },
    {
      "cell_type": "markdown",
      "metadata": {
        "id": "WwJjgufZS8WU"
      },
      "source": [
        "#### 44. Consider a random 10x2 matrix representing cartesian coordinates, convert them to polar coordinates (★★☆) \n",
        "(**hint**: np.sqrt, np.arctan2)"
      ]
    },
    {
      "cell_type": "code",
      "execution_count": 42,
      "metadata": {
        "colab": {
          "base_uri": "https://localhost:8080/"
        },
        "id": "5TiMJz5aS8WU",
        "outputId": "a316b890-f9bc-4ff0-b6f3-62677a381020"
      },
      "outputs": [
        {
          "output_type": "stream",
          "name": "stdout",
          "text": [
            "[[ 4.47213595  0.46364761]\n",
            " [ 5.          0.64350111]\n",
            " [ 9.21954446  0.86217005]\n",
            " [ 5.          0.92729522]\n",
            " [ 8.06225775  0.51914611]\n",
            " [ 5.83095189  1.03037683]\n",
            " [ 4.47213595  0.46364761]\n",
            " [ 7.21110255  0.5880026 ]\n",
            " [11.3137085   0.78539816]\n",
            " [ 1.41421356  0.78539816]]\n"
          ]
        }
      ],
      "source": [
        "import numpy as np\n",
        "z= np.random.randint(0,9,(10,2))\n",
        "x,y = z[:,0], z[:,1]\n",
        "r = np.sqrt(x**2+y**2)\n",
        "t = np.arctan2(y,x)\n",
        "poles = np.c_[r,t]\n",
        "print(poles)"
      ]
    },
    {
      "cell_type": "markdown",
      "metadata": {
        "id": "KQCFluEOS8WV"
      },
      "source": [
        "#### 45. Create random vector of size 10 and replace the maximum value by 0 (★★☆) \n",
        "(**hint**: argmax)"
      ]
    },
    {
      "cell_type": "code",
      "execution_count": 43,
      "metadata": {
        "colab": {
          "base_uri": "https://localhost:8080/"
        },
        "id": "nhNYDwCqS8WV",
        "outputId": "6c8a124d-d8fc-4fc5-871f-5d76632b4c03"
      },
      "outputs": [
        {
          "output_type": "stream",
          "name": "stdout",
          "text": [
            "[3.72263018e-01 4.55240863e-04 8.35836492e-01 8.01362993e-01\n",
            " 1.22577746e-01 4.38503161e-01 6.41289325e-01 1.74405585e-01\n",
            " 7.00980888e-01 1.50255781e-01]\n",
            "[3.72263018e-01 4.55240863e-04 0.00000000e+00 8.01362993e-01\n",
            " 1.22577746e-01 4.38503161e-01 6.41289325e-01 1.74405585e-01\n",
            " 7.00980888e-01 1.50255781e-01]\n"
          ]
        }
      ],
      "source": [
        "import numpy as np\n",
        "arr = np.random.random(10)\n",
        "print(arr)\n",
        "arr[arr.argmax()] = 0\n",
        "print(arr)"
      ]
    },
    {
      "cell_type": "markdown",
      "metadata": {
        "id": "_HOKmjrYS8WV"
      },
      "source": [
        "#### 46. Create a structured array with `x` and `y` coordinates covering the \\[0,1\\]x\\[0,1\\] area (★★☆) \n",
        "(**hint**: np.meshgrid)"
      ]
    },
    {
      "cell_type": "code",
      "execution_count": null,
      "metadata": {
        "id": "9KEUPLY_S8WV"
      },
      "outputs": [],
      "source": []
    },
    {
      "cell_type": "markdown",
      "metadata": {
        "id": "dVxQZBDYS8WV"
      },
      "source": [
        "####  47. Given two arrays, X and Y, construct the Cauchy matrix C (Cij =1/(xi - yj)) \n",
        "(**hint**: np.subtract.outer)"
      ]
    },
    {
      "cell_type": "code",
      "execution_count": 45,
      "metadata": {
        "colab": {
          "base_uri": "https://localhost:8080/"
        },
        "id": "C_-nKtZiS8WW",
        "outputId": "02b4e891-a2cd-42c1-f8cb-2640df3713b5"
      },
      "outputs": [
        {
          "output_type": "stream",
          "name": "stdout",
          "text": [
            "[[1 7 4 1 6 7 4 8 8 2]]\n",
            "[15 11 12 18 12 11 21 19 15 19]\n",
            "[[15 15 15 15 15 15 15 15 15 15]\n",
            " [11 11 11 11 11 11 11 11 11 11]\n",
            " [12 12 12 12 12 12 12 12 12 12]\n",
            " [18 18 18 18 18 18 18 18 18 18]\n",
            " [12 12 12 12 12 12 12 12 12 12]\n",
            " [11 11 11 11 11 11 11 11 11 11]\n",
            " [21 21 21 21 21 21 21 21 21 21]\n",
            " [19 19 19 19 19 19 19 19 19 19]\n",
            " [15 15 15 15 15 15 15 15 15 15]\n",
            " [19 19 19 19 19 19 19 19 19 19]]\n"
          ]
        },
        {
          "output_type": "execute_result",
          "data": {
            "text/plain": [
              "array([[0.07142857, 0.125     , 0.09090909, 0.07142857, 0.11111111,\n",
              "        0.125     , 0.09090909, 0.14285714, 0.14285714, 0.07692308],\n",
              "       [0.1       , 0.25      , 0.14285714, 0.1       , 0.2       ,\n",
              "        0.25      , 0.14285714, 0.33333333, 0.33333333, 0.11111111],\n",
              "       [0.09090909, 0.2       , 0.125     , 0.09090909, 0.16666667,\n",
              "        0.2       , 0.125     , 0.25      , 0.25      , 0.1       ],\n",
              "       [0.05882353, 0.09090909, 0.07142857, 0.05882353, 0.08333333,\n",
              "        0.09090909, 0.07142857, 0.1       , 0.1       , 0.0625    ],\n",
              "       [0.09090909, 0.2       , 0.125     , 0.09090909, 0.16666667,\n",
              "        0.2       , 0.125     , 0.25      , 0.25      , 0.1       ],\n",
              "       [0.1       , 0.25      , 0.14285714, 0.1       , 0.2       ,\n",
              "        0.25      , 0.14285714, 0.33333333, 0.33333333, 0.11111111],\n",
              "       [0.05      , 0.07142857, 0.05882353, 0.05      , 0.06666667,\n",
              "        0.07142857, 0.05882353, 0.07692308, 0.07692308, 0.05263158],\n",
              "       [0.05555556, 0.08333333, 0.06666667, 0.05555556, 0.07692308,\n",
              "        0.08333333, 0.06666667, 0.09090909, 0.09090909, 0.05882353],\n",
              "       [0.07142857, 0.125     , 0.09090909, 0.07142857, 0.11111111,\n",
              "        0.125     , 0.09090909, 0.14285714, 0.14285714, 0.07692308],\n",
              "       [0.05555556, 0.08333333, 0.06666667, 0.05555556, 0.07692308,\n",
              "        0.08333333, 0.06666667, 0.09090909, 0.09090909, 0.05882353]])"
            ]
          },
          "metadata": {},
          "execution_count": 45
        }
      ],
      "source": [
        "import numpy as np\n",
        "Y = np.random.randint(0,11,10)\n",
        "X = np.random.randint(11,22,10)\n",
        "print(Y.reshape(1,10))\n",
        "Y = np.tile(Y,(10,1))\n",
        "print(X)\n",
        "X  = np.tile(X,(10,1)).T\n",
        "print(X)\n",
        "\n",
        "C = 1/(X - Y)\n",
        "C "
      ]
    },
    {
      "cell_type": "markdown",
      "metadata": {
        "id": "Io2hKkDGS8WW"
      },
      "source": [
        "#### 48. Print the minimum and maximum representable value for each numpy scalar type (★★☆) \n",
        "(**hint**: np.iinfo, np.finfo, eps)"
      ]
    },
    {
      "cell_type": "code",
      "execution_count": 46,
      "metadata": {
        "colab": {
          "base_uri": "https://localhost:8080/"
        },
        "id": "MHEFHlNdS8WX",
        "outputId": "90f6141f-bcbb-49f2-fbef-601c37ec895f"
      },
      "outputs": [
        {
          "output_type": "stream",
          "name": "stdout",
          "text": [
            "-128\n",
            "127\n",
            "-2147483648\n",
            "2147483647\n",
            "-9223372036854775808\n",
            "9223372036854775807\n",
            "-3.4028235e+38\n",
            "3.4028235e+38\n",
            "1.1920929e-07\n",
            "-1.7976931348623157e+308\n",
            "1.7976931348623157e+308\n",
            "2.220446049250313e-16\n"
          ]
        }
      ],
      "source": [
        "import numpy as np\n",
        "for dtype in [np.int8, np.int32, np.int64]:\n",
        "    print(np.iinfo(dtype).min)\n",
        "    print(np.iinfo(dtype).max)\n",
        "for dtype in [np.float32, np.float64]:\n",
        "    print(np.finfo(dtype).min)\n",
        "    print(np.finfo(dtype).max)\n",
        "    print(np.finfo(dtype).eps)"
      ]
    },
    {
      "cell_type": "markdown",
      "metadata": {
        "id": "MBPRm4uuS8WX"
      },
      "source": [
        "#### 49. How to print all the values of an array? (★★☆) \n",
        "(**hint**: np.set\\_printoptions)"
      ]
    },
    {
      "cell_type": "code",
      "execution_count": 49,
      "metadata": {
        "colab": {
          "base_uri": "https://localhost:8080/"
        },
        "id": "fbtZu2HVS8WY",
        "outputId": "90e3dab2-bf46-4ed4-c2e5-45c40e5500c8"
      },
      "outputs": [
        {
          "output_type": "stream",
          "name": "stdout",
          "text": [
            "[]\n"
          ]
        }
      ],
      "source": [
        "import numpy as np\n",
        "Z = np.zeros((int(1e4),int(1e4)))\n",
        "Z = []\n",
        "print(Z)"
      ]
    },
    {
      "cell_type": "markdown",
      "metadata": {
        "id": "j3YJpbrNS8WY"
      },
      "source": [
        "#### 50. How to find the closest value (to a given scalar) in a vector? (★★☆) \n",
        "(**hint**: argmin)"
      ]
    },
    {
      "cell_type": "code",
      "execution_count": 50,
      "metadata": {
        "colab": {
          "base_uri": "https://localhost:8080/"
        },
        "id": "AqLfjHmSS8WY",
        "outputId": "1efeb02c-fcf9-43ad-97d3-7009cf8dc4a4"
      },
      "outputs": [
        {
          "output_type": "stream",
          "name": "stdout",
          "text": [
            "[5.55063868 1.30940576 6.84992023 4.57284387 1.26749475 3.77062116\n",
            " 4.16866623 8.07330315 1.90059845 7.97519147]\n",
            "************************************************************\n",
            "4.572843872669684\n"
          ]
        }
      ],
      "source": [
        "import numpy as np\n",
        "arr = np.random.uniform(0,10,10)\n",
        "scal = 5\n",
        "arr_1 = np.abs(arr - 5)\n",
        "ind = arr_1.argmin()\n",
        "print(arr)\n",
        "print('*'*60)\n",
        "print(arr[ind])"
      ]
    },
    {
      "cell_type": "markdown",
      "metadata": {
        "id": "tgBUB3ZYS8WY"
      },
      "source": [
        "#### 51. Create a structured array representing a position (x,y) and a color (r,g,b) (★★☆) \n",
        "(**hint**: dtype)"
      ]
    },
    {
      "cell_type": "code",
      "execution_count": 51,
      "metadata": {
        "colab": {
          "base_uri": "https://localhost:8080/"
        },
        "id": "I21uIFw0S8WZ",
        "outputId": "f165bb38-55c2-40fb-c52b-a88671d23d7f"
      },
      "outputs": [
        {
          "output_type": "stream",
          "name": "stdout",
          "text": [
            "[((0., 0.), (0., 0., 0.)) ((0., 0.), (0., 0., 0.))\n",
            " ((0., 0.), (0., 0., 0.)) ((0., 0.), (0., 0., 0.))\n",
            " ((0., 0.), (0., 0., 0.)) ((0., 0.), (0., 0., 0.))\n",
            " ((0., 0.), (0., 0., 0.)) ((0., 0.), (0., 0., 0.))\n",
            " ((0., 0.), (0., 0., 0.)) ((0., 0.), (0., 0., 0.))]\n"
          ]
        }
      ],
      "source": [
        "import numpy as np\n",
        "Z = np.zeros(10, [ ('position', [ ('x', float),\n",
        "                                  ('y', float)]),\n",
        "                   ('color',    [ ('r', float),\n",
        "                                  ('g', float),\n",
        "                                  ('b', float)])])\n",
        "print(Z)"
      ]
    },
    {
      "cell_type": "markdown",
      "metadata": {
        "id": "h4WEQpHES8WZ"
      },
      "source": [
        "#### 52. Consider a random vector with shape (100,2) representing coordinates, find point by point distances (★★☆) \n",
        "(**hint**: np.atleast\\_2d, T, np.sqrt)"
      ]
    },
    {
      "cell_type": "code",
      "execution_count": 53,
      "metadata": {
        "colab": {
          "base_uri": "https://localhost:8080/"
        },
        "id": "R83PeUYrS8Wa",
        "outputId": "805b8d51-13e8-45c4-fb97-8400c5f72216"
      },
      "outputs": [
        {
          "output_type": "stream",
          "name": "stdout",
          "text": [
            "[[0.         0.59510118 0.24474796 0.33397743 0.39580812 0.34696827\n",
            "  0.62667579 0.31138139 0.23023046 0.88930988]\n",
            " [0.59510118 0.         0.70281489 0.28241281 0.9312005  0.46027269\n",
            "  0.36393935 0.30550519 0.44953745 0.74083765]\n",
            " [0.24474796 0.70281489 0.         0.42109706 0.23343972 0.5796083\n",
            "  0.83016783 0.39871966 0.45598747 0.75639276]\n",
            " [0.33397743 0.28241281 0.42109706 0.         0.64879369 0.36281389\n",
            "  0.47573948 0.02369174 0.27792696 0.6782363 ]\n",
            " [0.39580812 0.9312005  0.23343972 0.64879369 0.         0.74015814\n",
            "  1.0210102  0.62573133 0.6260278  0.93110234]\n",
            " [0.34696827 0.46027269 0.5796083  0.36281389 0.74015814 0.\n",
            "  0.30822486 0.35799639 0.12478817 1.04097063]\n",
            " [0.62667579 0.36393935 0.83016783 0.47573948 1.0210102  0.30822486\n",
            "  0.         0.4868853  0.39915936 1.09022229]\n",
            " [0.31138139 0.30550519 0.39871966 0.02369174 0.62573133 0.35799639\n",
            "  0.4868853  0.         0.26682186 0.68358866]\n",
            " [0.23023046 0.44953745 0.45598747 0.27792696 0.6260278  0.12478817\n",
            "  0.39915936 0.26682186 0.         0.94641368]\n",
            " [0.88930988 0.74083765 0.75639276 0.6782363  0.93110234 1.04097063\n",
            "  1.09022229 0.68358866 0.94641368 0.        ]]\n"
          ]
        }
      ],
      "source": [
        "import numpy as np\n",
        "arr = np.random.random((100,2))\n",
        "X,Y = np.atleast_2d(arr[:,0],arr[:,1])\n",
        "D = np.sqrt( (X-X.T)**2 + (Y-Y.T)**2)\n",
        "import scipy\n",
        "import scipy.spatial\n",
        "Z = np.random.random((10,2))\n",
        "D = scipy.spatial.distance.cdist(Z,Z)\n",
        "print(D)"
      ]
    },
    {
      "cell_type": "markdown",
      "metadata": {
        "id": "i3ebMtgXS8Wa"
      },
      "source": [
        "#### 53. How to convert a float (32 bits) array into an integer (32 bits) in place? \n",
        "(**hint**: astype(copy=False))"
      ]
    },
    {
      "cell_type": "code",
      "execution_count": 54,
      "metadata": {
        "colab": {
          "base_uri": "https://localhost:8080/"
        },
        "id": "gYVFKovMS8Wa",
        "outputId": "4fc23206-254e-4ceb-823b-949cdd6a7a0f"
      },
      "outputs": [
        {
          "output_type": "stream",
          "name": "stdout",
          "text": [
            "[2. 1. 2. 3. 4. 5. 6. 7. 8. 9.]\n"
          ]
        }
      ],
      "source": [
        "import numpy as np\n",
        "Z = np.arange(10, dtype=np.float32)\n",
        "Z_1 = Z.astype(np.float32, copy=False)\n",
        "Z_1[0] = 2\n",
        "print(Z)"
      ]
    },
    {
      "cell_type": "markdown",
      "metadata": {
        "id": "8AWFvcm6S8Wa"
      },
      "source": [
        "#### 54. How to read the following file? (★★☆) \n",
        "(**hint**: np.genfromtxt)"
      ]
    },
    {
      "cell_type": "markdown",
      "metadata": {
        "id": "xTkvi4HKS8Wb"
      },
      "source": [
        "```\n",
        "1, 2, 3, 4, 5\n",
        "6,  ,  , 7, 8\n",
        " ,  , 9,10,11\n",
        "```"
      ]
    },
    {
      "cell_type": "code",
      "execution_count": 55,
      "metadata": {
        "colab": {
          "base_uri": "https://localhost:8080/"
        },
        "id": "A1xM2J36S8Wb",
        "outputId": "ec63f306-c4c1-4035-88ef-f0bd06dbac2f"
      },
      "outputs": [
        {
          "output_type": "stream",
          "name": "stdout",
          "text": [
            "[[ 1  2  3  4  5]\n",
            " [ 6 -1 -1  7  8]\n",
            " [-1 -1  9 10 11]]\n"
          ]
        },
        {
          "output_type": "stream",
          "name": "stderr",
          "text": [
            "/usr/local/lib/python3.7/dist-packages/ipykernel_launcher.py:7: DeprecationWarning: `np.int` is a deprecated alias for the builtin `int`. To silence this warning, use `int` by itself. Doing this will not modify any behavior and is safe. When replacing `np.int`, you may wish to use e.g. `np.int64` or `np.int32` to specify the precision. If you wish to review your current use, check the release note link for additional information.\n",
            "Deprecated in NumPy 1.20; for more details and guidance: https://numpy.org/devdocs/release/1.20.0-notes.html#deprecations\n",
            "  import sys\n"
          ]
        }
      ],
      "source": [
        "from io import StringIO\n",
        "\n",
        "# Fake file \n",
        "s = StringIO(\"\"\"1, 2, 3, 4, 5\\n\n",
        "                6,  ,  , 7, 8\\n\n",
        "                 ,  , 9,10,11\\n\"\"\")\n",
        "Z = np.genfromtxt(s, delimiter=\",\", dtype=np.int)\n",
        "print(Z)"
      ]
    },
    {
      "cell_type": "markdown",
      "metadata": {
        "id": "r6yftQouS8Wb"
      },
      "source": [
        "#### 55. What is the equivalent of enumerate for numpy arrays? (★★☆) \n",
        "(**hint**: np.ndenumerate, np.ndindex)"
      ]
    },
    {
      "cell_type": "code",
      "execution_count": 56,
      "metadata": {
        "colab": {
          "base_uri": "https://localhost:8080/"
        },
        "id": "x4KGC8cXS8Wc",
        "outputId": "eff0deea-111d-4581-b97d-f46fdc87db6e"
      },
      "outputs": [
        {
          "output_type": "stream",
          "name": "stdout",
          "text": [
            "(0, 0) 0\n",
            "(0, 1) 1\n",
            "(0, 2) 2\n",
            "(1, 0) 3\n",
            "(1, 1) 4\n",
            "(1, 2) 5\n",
            "(2, 0) 6\n",
            "(2, 1) 7\n",
            "(2, 2) 8\n",
            "(0, 0) 0\n",
            "(0, 1) 1\n",
            "(0, 2) 2\n",
            "(1, 0) 3\n",
            "(1, 1) 4\n",
            "(1, 2) 5\n",
            "(2, 0) 6\n",
            "(2, 1) 7\n",
            "(2, 2) 8\n"
          ]
        }
      ],
      "source": [
        "import numpy as np\n",
        "Z = np.arange(9).reshape(3,3)\n",
        "for index, value in np.ndenumerate(Z):\n",
        "    print(index, value)\n",
        "for index in np.ndindex(Z.shape):\n",
        "    print(index, Z[index])"
      ]
    },
    {
      "cell_type": "markdown",
      "metadata": {
        "id": "EeCfB6hJS8Wc"
      },
      "source": [
        "#### 56. Generate a generic 2D Gaussian-like array (★★☆) \n",
        "(**hint**: np.meshgrid, np.exp)"
      ]
    },
    {
      "cell_type": "code",
      "execution_count": 57,
      "metadata": {
        "colab": {
          "base_uri": "https://localhost:8080/"
        },
        "id": "2U4qazsSS8Wc",
        "outputId": "d6ca17f7-d1da-4225-86a4-2e15b0b848b2"
      },
      "outputs": [
        {
          "output_type": "stream",
          "name": "stdout",
          "text": [
            "[[0.36787944 0.44822088 0.51979489 0.57375342 0.60279818 0.60279818\n",
            "  0.57375342 0.51979489 0.44822088 0.36787944]\n",
            " [0.44822088 0.54610814 0.63331324 0.69905581 0.73444367 0.73444367\n",
            "  0.69905581 0.63331324 0.54610814 0.44822088]\n",
            " [0.51979489 0.63331324 0.73444367 0.81068432 0.85172308 0.85172308\n",
            "  0.81068432 0.73444367 0.63331324 0.51979489]\n",
            " [0.57375342 0.69905581 0.81068432 0.89483932 0.9401382  0.9401382\n",
            "  0.89483932 0.81068432 0.69905581 0.57375342]\n",
            " [0.60279818 0.73444367 0.85172308 0.9401382  0.98773022 0.98773022\n",
            "  0.9401382  0.85172308 0.73444367 0.60279818]\n",
            " [0.60279818 0.73444367 0.85172308 0.9401382  0.98773022 0.98773022\n",
            "  0.9401382  0.85172308 0.73444367 0.60279818]\n",
            " [0.57375342 0.69905581 0.81068432 0.89483932 0.9401382  0.9401382\n",
            "  0.89483932 0.81068432 0.69905581 0.57375342]\n",
            " [0.51979489 0.63331324 0.73444367 0.81068432 0.85172308 0.85172308\n",
            "  0.81068432 0.73444367 0.63331324 0.51979489]\n",
            " [0.44822088 0.54610814 0.63331324 0.69905581 0.73444367 0.73444367\n",
            "  0.69905581 0.63331324 0.54610814 0.44822088]\n",
            " [0.36787944 0.44822088 0.51979489 0.57375342 0.60279818 0.60279818\n",
            "  0.57375342 0.51979489 0.44822088 0.36787944]]\n"
          ]
        }
      ],
      "source": [
        "import numpy as np\n",
        "sigma,myu = 1.0,0.0\n",
        "\n",
        "X,Y  = np.meshgrid(np.linspace(-1,1,10),np.linspace(-1,1,10))\n",
        "D = np.sqrt(X**2+Y**2)\n",
        "G = np.exp(-(D-myu)**2/(2*sigma**2))\n",
        "print(G)"
      ]
    },
    {
      "cell_type": "markdown",
      "metadata": {
        "id": "VQ_VH4Q-S8Wc"
      },
      "source": [
        "#### 57. How to randomly place p elements in a 2D array? (★★☆) \n",
        "(**hint**: np.put, np.random.choice)"
      ]
    },
    {
      "cell_type": "code",
      "execution_count": 58,
      "metadata": {
        "colab": {
          "base_uri": "https://localhost:8080/"
        },
        "id": "IzeSwX5zS8Wd",
        "outputId": "e19c9450-6b6b-4700-f298-9936d5128252"
      },
      "outputs": [
        {
          "output_type": "stream",
          "name": "stdout",
          "text": [
            "[[0. 0. 0. 0. 0. 0. 0. 0. 0. 0.]\n",
            " [1. 0. 0. 0. 0. 0. 0. 0. 0. 0.]\n",
            " [0. 0. 0. 0. 0. 0. 0. 0. 0. 0.]\n",
            " [0. 0. 0. 0. 0. 0. 0. 0. 0. 0.]\n",
            " [0. 0. 0. 0. 0. 0. 0. 0. 0. 0.]\n",
            " [0. 0. 0. 0. 0. 0. 0. 0. 0. 0.]\n",
            " [0. 0. 0. 0. 0. 0. 0. 0. 0. 0.]\n",
            " [0. 0. 0. 0. 0. 0. 0. 0. 1. 0.]\n",
            " [0. 0. 0. 0. 0. 0. 0. 0. 0. 0.]\n",
            " [0. 0. 0. 0. 0. 0. 0. 0. 1. 0.]]\n",
            "[[0. 0. 0. 0. 0. 0. 0. 0. 0. 0.]\n",
            " [1. 1. 0. 0. 0. 0. 0. 0. 0. 0.]\n",
            " [0. 0. 0. 0. 0. 0. 0. 0. 0. 0.]\n",
            " [0. 0. 0. 0. 0. 0. 0. 0. 0. 0.]\n",
            " [0. 0. 0. 0. 0. 0. 0. 0. 0. 0.]\n",
            " [0. 0. 0. 0. 0. 0. 0. 0. 0. 0.]\n",
            " [0. 0. 0. 0. 0. 0. 0. 0. 0. 0.]\n",
            " [0. 0. 0. 0. 0. 0. 0. 0. 1. 0.]\n",
            " [0. 0. 0. 0. 0. 0. 0. 0. 0. 0.]\n",
            " [0. 0. 0. 0. 0. 0. 0. 0. 1. 0.]]\n"
          ]
        }
      ],
      "source": [
        "n = 10\n",
        "p = 3\n",
        "Z = np.zeros((n,n))\n",
        "np.put(Z, np.random.choice(range(n*n), p, replace=False),1)\n",
        "print(Z)\n",
        "\n",
        "np.put(Z,11,1)\n",
        "print(Z)"
      ]
    },
    {
      "cell_type": "markdown",
      "metadata": {
        "id": "mNZG2HbwS8Wd"
      },
      "source": [
        "#### 58. Subtract the mean of each row of a matrix (★★☆) \n",
        "(**hint**: mean(axis=,keepdims=))"
      ]
    },
    {
      "cell_type": "code",
      "execution_count": 59,
      "metadata": {
        "colab": {
          "base_uri": "https://localhost:8080/"
        },
        "id": "yyK318vZS8Wd",
        "outputId": "f351aa48-d05e-4b12-f911-b45d31047673"
      },
      "outputs": [
        {
          "output_type": "stream",
          "name": "stdout",
          "text": [
            "[[ 0.18365141 -0.34284877 -0.45845231  0.40571207 -0.39722821 -0.27451702\n",
            "   0.4682003   0.03700052  0.06800602  0.31047598]\n",
            " [ 0.04935554 -0.16605711 -0.29333101  0.11691346  0.10267048  0.42687709\n",
            "   0.37192734 -0.3506594   0.10147507 -0.35917145]\n",
            " [-0.19615475  0.42516527  0.26527988 -0.25702164 -0.14264518 -0.38484612\n",
            "   0.36914386  0.14009125  0.26416831 -0.48318088]\n",
            " [-0.13483909  0.21914252  0.21877649  0.13438984  0.02525923  0.13502212\n",
            "   0.20252016 -0.62137109  0.17801976 -0.35691993]\n",
            " [ 0.0963184   0.29410238 -0.36387843 -0.01319753  0.44687566 -0.2678076\n",
            "  -0.28139633 -0.2382026   0.59663562 -0.26944956]]\n"
          ]
        },
        {
          "output_type": "execute_result",
          "data": {
            "text/plain": [
              "array([[ True],\n",
              "       [ True],\n",
              "       [ True],\n",
              "       [ True],\n",
              "       [ True]])"
            ]
          },
          "metadata": {},
          "execution_count": 59
        }
      ],
      "source": [
        "import numpy as np\n",
        "X = np.random.rand(5, 10)\n",
        "Y = X - X.mean(axis = 1,keepdims = True)\n",
        "print(Y)\n",
        "X.mean(axis = 1).reshape(-1,1) == X.mean(axis = 1,keepdims =True)"
      ]
    },
    {
      "cell_type": "markdown",
      "metadata": {
        "id": "z0r8Lg82S8Wd"
      },
      "source": [
        "#### 59. How to sort an array by the nth column? (★★☆) \n",
        "(**hint**: argsort)"
      ]
    },
    {
      "cell_type": "code",
      "execution_count": 61,
      "metadata": {
        "colab": {
          "base_uri": "https://localhost:8080/"
        },
        "id": "7W0VH_dFS8We",
        "outputId": "ab85f749-984d-4381-e811-dd8089fe2d5c"
      },
      "outputs": [
        {
          "output_type": "stream",
          "name": "stdout",
          "text": [
            "[[3 7 7 1 0]\n",
            " [0 8 0 2 0]\n",
            " [4 0 9 4 8]\n",
            " [7 2 3 3 1]\n",
            " [7 0 5 9 0]]\n",
            "[[0 0 0 1 0]\n",
            " [3 0 3 2 0]\n",
            " [4 2 5 3 0]\n",
            " [7 7 7 4 1]\n",
            " [7 8 9 9 8]]\n",
            "[[7 8 9 9 8]\n",
            " [7 7 7 4 1]\n",
            " [4 2 5 3 0]\n",
            " [0 0 0 1 0]\n",
            " [3 0 3 2 0]]\n",
            "[[0 0 1 0 0]\n",
            " [0 0 2 3 3]\n",
            " [2 0 3 4 5]\n",
            " [7 1 4 7 7]\n",
            " [8 8 9 7 9]]\n"
          ]
        }
      ],
      "source": [
        "Z = np.random.randint(0,10,(5,5))\n",
        "print(Z)\n",
        "Z_1 = Z\n",
        "for ind in range(5):\n",
        "     Z_1[:,ind].sort()\n",
        "print(Z_1)\n",
        "print(Z[(-Z)[:,1].argsort()])\n",
        "print(Z[:,Z[1,:].argsort()])"
      ]
    },
    {
      "cell_type": "markdown",
      "metadata": {
        "id": "NTFvp9rmS8We"
      },
      "source": [
        "#### 60. How to tell if a given 2D array has null columns? (★★☆) \n",
        "(**hint**: any, ~)"
      ]
    },
    {
      "cell_type": "code",
      "execution_count": 62,
      "metadata": {
        "colab": {
          "base_uri": "https://localhost:8080/"
        },
        "id": "gQkFmcChS8We",
        "outputId": "1b73a425-add9-456c-f032-56779883b436"
      },
      "outputs": [
        {
          "output_type": "stream",
          "name": "stdout",
          "text": [
            "[[False False False  True False  True  True False False  True]\n",
            " [False False False False False False  True False  True  True]\n",
            " [False False False  True  True  True  True  True  True  True]]\n",
            "[[ True  True  True False  True False False  True  True False]\n",
            " [ True  True  True  True  True  True False  True False False]\n",
            " [ True  True  True False False False False False False False]]\n"
          ]
        },
        {
          "output_type": "execute_result",
          "data": {
            "text/plain": [
              "array([False, False, False,  True,  True,  True,  True,  True,  True,\n",
              "        True])"
            ]
          },
          "metadata": {},
          "execution_count": 62
        }
      ],
      "source": [
        "import numpy as np\n",
        "Z = np.random.randint(0,3,(3,10))\n",
        "Z[:,1] = 0\n",
        "Z = Z.astype(bool)\n",
        "print(Z)\n",
        "print(~Z)\n",
        "(Z).any(axis = 0)"
      ]
    },
    {
      "cell_type": "markdown",
      "metadata": {
        "id": "FZdko8DoS8We"
      },
      "source": [
        "#### 61. Find the nearest value from a given value in an array (★★☆) \n",
        "(**hint**: np.abs, argmin, flat)"
      ]
    },
    {
      "cell_type": "code",
      "execution_count": 68,
      "metadata": {
        "colab": {
          "base_uri": "https://localhost:8080/"
        },
        "id": "C2VB93J4S8Wf",
        "outputId": "2bfc55fe-bc30-4c85-9e5c-92be868577b3"
      },
      "outputs": [
        {
          "output_type": "stream",
          "name": "stdout",
          "text": [
            "0.5600108430342721\n"
          ]
        }
      ],
      "source": [
        "import numpy as np\n",
        "Z = np.random.uniform(0,1,10)\n",
        "z = 0.5\n",
        "m = Z.flat[np.abs(Z - z).argmin()]\n",
        "print(m)"
      ]
    },
    {
      "cell_type": "markdown",
      "metadata": {
        "id": "cPJWY_-1S8Wf"
      },
      "source": [
        "#### 62. Considering two arrays with shape (1,3) and (3,1), how to compute their sum using an iterator? (★★☆) \n",
        "(**hint**: np.nditer)"
      ]
    },
    {
      "cell_type": "code",
      "execution_count": 69,
      "metadata": {
        "colab": {
          "base_uri": "https://localhost:8080/"
        },
        "id": "PFGlNncvS8Wf",
        "outputId": "2fb29cb6-6313-4e8e-fe01-7bb991bb20ed"
      },
      "outputs": [
        {
          "output_type": "stream",
          "name": "stdout",
          "text": [
            "[[0 1 2]\n",
            " [1 2 3]\n",
            " [2 3 4]]\n"
          ]
        }
      ],
      "source": [
        "import numpy as np\n",
        "A = np.arange(3).reshape(3,1)\n",
        "B = np.arange(3).reshape(1,3)\n",
        "it = np.nditer([A,B,None])\n",
        "for x,y,z in it: z[...] = x + y\n",
        "print(it.operands[2])"
      ]
    },
    {
      "cell_type": "markdown",
      "metadata": {
        "id": "hnnyw1exS8Wg"
      },
      "source": [
        "#### 63. Create an array class that has a name attribute (★★☆) \n",
        "(**hint**: class method)"
      ]
    },
    {
      "cell_type": "code",
      "execution_count": 70,
      "metadata": {
        "colab": {
          "base_uri": "https://localhost:8080/"
        },
        "id": "CSfly86OS8Wg",
        "outputId": "4f4f9b57-5f4c-429c-d124-cccbbf20a32c"
      },
      "outputs": [
        {
          "output_type": "stream",
          "name": "stdout",
          "text": [
            "range_10\n"
          ]
        }
      ],
      "source": [
        "class NamedArray(np.ndarray):\n",
        "    def __new__(cls, array, name=\"no name\"):\n",
        "        obj = np.asarray(array).view(cls)\n",
        "        obj.name = name\n",
        "        return obj\n",
        "    def __array_finalize__(self, obj):\n",
        "        if obj is None: return\n",
        "        self.info = getattr(obj, 'name', \"no name\")\n",
        "\n",
        "Z = NamedArray(np.arange(10), \"range_10\")\n",
        "print (Z.name)"
      ]
    },
    {
      "cell_type": "markdown",
      "metadata": {
        "id": "dDAkI7BuS8Wg"
      },
      "source": [
        "#### 64. Consider a given vector, how to add 1 to each element indexed by a second vector (be careful with repeated indices)? (★★★) \n",
        "(**hint**: np.bincount | np.add.at)"
      ]
    },
    {
      "cell_type": "code",
      "execution_count": 71,
      "metadata": {
        "colab": {
          "base_uri": "https://localhost:8080/"
        },
        "id": "RXf40UY9S8Wg",
        "outputId": "6ef81764-e765-4e6d-8681-93dc2e27f3ca"
      },
      "outputs": [
        {
          "output_type": "stream",
          "name": "stdout",
          "text": [
            "[2. 4. 3. 6. 1. 2. 5. 3. 1. 3.]\n",
            "[ 3.  7.  5. 11.  1.  3.  9.  5.  1.  5.]\n"
          ]
        }
      ],
      "source": [
        "import numpy as np\n",
        "Z = np.ones(10)\n",
        "I = np.random.randint(0,len(Z),20)\n",
        "Z += np.bincount(I, minlength=len(Z))\n",
        "print(Z)\n",
        "\n",
        "# Another solution\n",
        "# Author: Bartosz Telenczuk\n",
        "np.add.at(Z, I, 1)\n",
        "print(Z)"
      ]
    },
    {
      "cell_type": "markdown",
      "metadata": {
        "id": "snggmogUS8Wh"
      },
      "source": [
        "#### 65. How to accumulate elements of a vector (X) to an array (F) based on an index list (I)? (★★★) \n",
        "(**hint**: np.bincount)"
      ]
    },
    {
      "cell_type": "code",
      "execution_count": 72,
      "metadata": {
        "colab": {
          "base_uri": "https://localhost:8080/"
        },
        "id": "Uq5g4P7vS8Wh",
        "outputId": "a786b86f-1dc9-4332-b281-8fd9fe1120cd"
      },
      "outputs": [
        {
          "output_type": "stream",
          "name": "stdout",
          "text": [
            "[0. 7. 0. 6. 5. 0. 0. 0. 0. 3.]\n"
          ]
        }
      ],
      "source": [
        "import numpy as np\n",
        "X = [1,2,3,4,5,6]\n",
        "I = [1,3,9,3,4,1]\n",
        "F = np.bincount(I,X)\n",
        "print(F)"
      ]
    },
    {
      "cell_type": "markdown",
      "metadata": {
        "id": "pNAMx54cS8Wh"
      },
      "source": [
        "#### 66. Considering a (w,h,3) image of (dtype=ubyte), compute the number of unique colors (★★★) \n",
        "(**hint**: np.unique)"
      ]
    },
    {
      "cell_type": "code",
      "execution_count": 73,
      "metadata": {
        "colab": {
          "base_uri": "https://localhost:8080/"
        },
        "id": "av4rLMUqS8Wh",
        "outputId": "0a8456d3-273b-42a9-e4a8-3e0df2ed3039"
      },
      "outputs": [
        {
          "output_type": "stream",
          "name": "stdout",
          "text": [
            "64\n",
            "64\n"
          ]
        }
      ],
      "source": [
        "import numpy as np\n",
        "w, h = 256, 256\n",
        "I = np.random.randint(0, 4, (h, w, 3)).astype(np.ubyte)\n",
        "colors = np.unique(I.reshape(-1, 3), axis=0)\n",
        "n = len(colors)\n",
        "print(n)\n",
        "\n",
        "w, h = 256, 256\n",
        "I = np.random.randint(0,4,(h,w,3), dtype=np.uint8)\n",
        "\n",
        "I24 = np.dot(I.astype(np.uint32),[1,256,65536])\n",
        "\n",
        "n = len(np.unique(I24))\n",
        "print(n)"
      ]
    },
    {
      "cell_type": "markdown",
      "metadata": {
        "id": "8moDmLgOS8Wi"
      },
      "source": [
        "#### 67. Considering a four dimensions array, how to get sum over the last two axis at once? (★★★) \n",
        "(**hint**: sum(axis=(-2,-1)))"
      ]
    },
    {
      "cell_type": "code",
      "execution_count": 74,
      "metadata": {
        "colab": {
          "base_uri": "https://localhost:8080/"
        },
        "id": "ulZzUmLPS8Wi",
        "outputId": "9820ed69-c218-4c87-90a0-0a15b3c28d1f"
      },
      "outputs": [
        {
          "output_type": "stream",
          "name": "stdout",
          "text": [
            "[[44 74 49 52]\n",
            " [60 47 49 43]\n",
            " [46 43 45 47]]\n",
            "[[44 74 49 52]\n",
            " [60 47 49 43]\n",
            " [46 43 45 47]]\n"
          ]
        }
      ],
      "source": [
        "import numpy as np\n",
        "A = np.random.randint(0,10,(3,4,3,4))\n",
        "# solution by passing a tuple of axes (introduced in numpy 1.7.0)\n",
        "sum = A.sum(axis=(-2,-1))\n",
        "print(sum)\n",
        "# solution by flattening the last two dimensions into one\n",
        "# (useful for functions that don't accept tuples for axis argument)\n",
        "sum = A.reshape(A.shape[:-2] + (-1,)).sum(axis=-1)\n",
        "print(sum)"
      ]
    },
    {
      "cell_type": "markdown",
      "metadata": {
        "id": "6u6L_9J_S8Wi"
      },
      "source": [
        "#### 68. Considering a one-dimensional vector D, how to compute means of subsets of D using a vector S of same size describing subset  indices? (★★★) \n",
        "(**hint**: np.bincount)"
      ]
    },
    {
      "cell_type": "code",
      "execution_count": 75,
      "metadata": {
        "colab": {
          "base_uri": "https://localhost:8080/"
        },
        "id": "9cX5AYe1S8Wi",
        "outputId": "6ad5c898-4ee5-4447-e7bf-b6de0fdb6c98"
      },
      "outputs": [
        {
          "output_type": "stream",
          "name": "stdout",
          "text": [
            "[0.37024579 0.53057402 0.66290294 0.59954069 0.46659747 0.55192822\n",
            " 0.41188668 0.42872483 0.23358078 0.41719592]\n",
            "0    0.370246\n",
            "1    0.530574\n",
            "2    0.662903\n",
            "3    0.599541\n",
            "4    0.466597\n",
            "5    0.551928\n",
            "6    0.411887\n",
            "7    0.428725\n",
            "8    0.233581\n",
            "9    0.417196\n",
            "dtype: float64\n"
          ]
        }
      ],
      "source": [
        "import numpy as np\n",
        "D = np.random.uniform(0,1,100)\n",
        "S = np.random.randint(0,10,100)\n",
        "D_sums = np.bincount(S, weights=D)\n",
        "D_counts = np.bincount(S)\n",
        "D_means = D_sums / D_counts\n",
        "print(D_means)\n",
        "\n",
        "import pandas as pd\n",
        "print(pd.Series(D).groupby(S).mean())"
      ]
    },
    {
      "cell_type": "markdown",
      "metadata": {
        "id": "XqAJDkqVS8Wi"
      },
      "source": [
        "#### 69. How to get the diagonal of a dot product? (★★★) \n",
        "(**hint**: np.diag)"
      ]
    },
    {
      "cell_type": "code",
      "execution_count": 76,
      "metadata": {
        "colab": {
          "base_uri": "https://localhost:8080/"
        },
        "id": "tfP3a3L1S8Wj",
        "outputId": "18e763c7-0172-426a-efe1-ae0279d39ae1"
      },
      "outputs": [
        {
          "output_type": "execute_result",
          "data": {
            "text/plain": [
              "array([0.12271414, 2.09020877, 0.99992798, 1.088817  , 1.26427528])"
            ]
          },
          "metadata": {},
          "execution_count": 76
        }
      ],
      "source": [
        "import numpy as np\n",
        "A = np.random.uniform(0,1,(5,5))\n",
        "B = np.random.uniform(0,1,(5,5))\n",
        "\n",
        "# Slow version\n",
        "np.diag(np.dot(A, B))\n",
        "\n",
        "# Fast version\n",
        "np.sum(A * B.T, axis=1)\n",
        "\n",
        "# Faster version\n",
        "np.einsum(\"ij,ji->i\", A, B)"
      ]
    },
    {
      "cell_type": "markdown",
      "metadata": {
        "id": "9utwbCh3S8Wj"
      },
      "source": [
        "#### 70. Consider the vector \\[1, 2, 3, 4, 5\\], how to build a new vector with 3 consecutive zeros interleaved between each value? (★★★) \n",
        "(**hint**: array\\[::4\\])"
      ]
    },
    {
      "cell_type": "code",
      "execution_count": 77,
      "metadata": {
        "colab": {
          "base_uri": "https://localhost:8080/"
        },
        "id": "PxDB4Y04S8Wj",
        "outputId": "8d13b749-81d1-40c3-9890-a6c4c6dee0e2"
      },
      "outputs": [
        {
          "output_type": "stream",
          "name": "stdout",
          "text": [
            "[1. 0. 0. 0. 2. 0. 0. 0. 3. 0. 0. 0. 4. 0. 0. 0. 5.]\n"
          ]
        }
      ],
      "source": [
        "Z = np.array([1,2,3,4,5])\n",
        "nz = 3\n",
        "Z0 = np.zeros(len(Z) + (len(Z)-1)*(nz))\n",
        "Z0[::nz+1] = Z\n",
        "print(Z0)"
      ]
    },
    {
      "cell_type": "markdown",
      "metadata": {
        "id": "DsKHnMsiS8Wj"
      },
      "source": [
        "#### 71. Consider an array of dimension (5,5,3), how to mulitply it by an array with dimensions (5,5)? (★★★) \n",
        "(**hint**: array\\[:, :, None\\])"
      ]
    },
    {
      "cell_type": "code",
      "execution_count": 78,
      "metadata": {
        "collapsed": true,
        "colab": {
          "base_uri": "https://localhost:8080/"
        },
        "id": "_QyL68V8S8Wk",
        "outputId": "051a7c99-8638-4206-d836-9150875b6066"
      },
      "outputs": [
        {
          "output_type": "stream",
          "name": "stdout",
          "text": [
            "[[[2. 2. 2.]\n",
            "  [2. 2. 2.]\n",
            "  [2. 2. 2.]\n",
            "  [2. 2. 2.]\n",
            "  [2. 2. 2.]]\n",
            "\n",
            " [[2. 2. 2.]\n",
            "  [2. 2. 2.]\n",
            "  [2. 2. 2.]\n",
            "  [2. 2. 2.]\n",
            "  [2. 2. 2.]]\n",
            "\n",
            " [[2. 2. 2.]\n",
            "  [2. 2. 2.]\n",
            "  [2. 2. 2.]\n",
            "  [2. 2. 2.]\n",
            "  [2. 2. 2.]]\n",
            "\n",
            " [[2. 2. 2.]\n",
            "  [2. 2. 2.]\n",
            "  [2. 2. 2.]\n",
            "  [2. 2. 2.]\n",
            "  [2. 2. 2.]]\n",
            "\n",
            " [[2. 2. 2.]\n",
            "  [2. 2. 2.]\n",
            "  [2. 2. 2.]\n",
            "  [2. 2. 2.]\n",
            "  [2. 2. 2.]]]\n"
          ]
        }
      ],
      "source": [
        "A = np.ones((5,5,3))\n",
        "B = 2*np.ones((5,5))\n",
        "print(A * B[:,:,None])"
      ]
    },
    {
      "cell_type": "markdown",
      "metadata": {
        "id": "117PzmPdS8Wk"
      },
      "source": [
        "#### 72. How to swap two rows of an array? (★★★) \n",
        "(**hint**: array\\[\\[\\]\\] = array\\[\\[\\]\\])"
      ]
    },
    {
      "cell_type": "code",
      "execution_count": 80,
      "metadata": {
        "colab": {
          "base_uri": "https://localhost:8080/"
        },
        "id": "Vs3eGnrKS8Wk",
        "outputId": "3fe06c6f-1761-4c26-a87c-53126bbf2b17"
      },
      "outputs": [
        {
          "output_type": "stream",
          "name": "stdout",
          "text": [
            "[[ 5  6  7  8  9]\n",
            " [ 0  1  2  3  4]\n",
            " [10 11 12 13 14]\n",
            " [15 16 17 18 19]\n",
            " [20 21 22 23 24]]\n"
          ]
        }
      ],
      "source": [
        "A = np.arange(25).reshape(5,5)\n",
        "A[[0,1]] = A[[1,0]]\n",
        "print(A)"
      ]
    },
    {
      "cell_type": "markdown",
      "metadata": {
        "id": "t8Aum2_ES8Wl"
      },
      "source": [
        "#### 73. Consider a set of 10 triplets describing 10 triangles (with shared vertices), find the set of unique line segments composing all the  triangles (★★★) \n",
        "(**hint**: repeat, np.roll, np.sort, view, np.unique)"
      ]
    },
    {
      "cell_type": "code",
      "execution_count": 81,
      "metadata": {
        "colab": {
          "base_uri": "https://localhost:8080/"
        },
        "id": "mo3aCuU4S8Wl",
        "outputId": "ca198258-d78e-4d2d-df2e-0ccb51cd5012"
      },
      "outputs": [
        {
          "output_type": "stream",
          "name": "stdout",
          "text": [
            "[( 3,  8) ( 3, 44) ( 3, 52) ( 3, 60) ( 7, 43) ( 7, 59) ( 8, 52) (13, 75)\n",
            " (13, 82) (15, 63) (15, 94) (16, 75) (16, 83) (17, 57) (17, 74) (23, 85)\n",
            " (23, 99) (32, 56) (32, 91) (43, 59) (44, 60) (56, 91) (57, 74) (58, 81)\n",
            " (58, 93) (63, 94) (75, 82) (75, 83) (81, 93) (85, 99)]\n"
          ]
        }
      ],
      "source": [
        "faces = np.random.randint(0,100,(10,3))\n",
        "F = np.roll(faces.repeat(2,axis=1),-1,axis=1)\n",
        "F = F.reshape(len(F)*3,2)\n",
        "F = np.sort(F,axis=1)\n",
        "G = F.view( dtype=[('p0',F.dtype),('p1',F.dtype)] )\n",
        "G = np.unique(G)\n",
        "print(G)"
      ]
    },
    {
      "cell_type": "markdown",
      "metadata": {
        "id": "8unXhlz3S8Wm"
      },
      "source": [
        "#### 74. Given an array C that is a bincount, how to produce an array A such that np.bincount(A) == C? (★★★) \n",
        "(**hint**: np.repeat)"
      ]
    },
    {
      "cell_type": "code",
      "execution_count": 82,
      "metadata": {
        "colab": {
          "base_uri": "https://localhost:8080/"
        },
        "id": "UxeRDnWES8Wm",
        "outputId": "80967c18-0fa9-47f1-982c-2fb163ecff97"
      },
      "outputs": [
        {
          "output_type": "stream",
          "name": "stdout",
          "text": [
            "[1 1 2 3 4 4 6]\n"
          ]
        }
      ],
      "source": [
        "C = np.bincount([1,1,2,3,4,4,6])\n",
        "A = np.repeat(np.arange(len(C)), C)\n",
        "print(A)"
      ]
    },
    {
      "cell_type": "markdown",
      "metadata": {
        "id": "SN5N8meqS8Wm"
      },
      "source": [
        "#### 75. How to compute averages using a sliding window over an array? (★★★) \n",
        "(**hint**: np.cumsum)"
      ]
    },
    {
      "cell_type": "code",
      "execution_count": 83,
      "metadata": {
        "colab": {
          "base_uri": "https://localhost:8080/"
        },
        "id": "tghDCWlJS8Wn",
        "outputId": "69040686-c422-41e7-e3ac-001a5e4b2330"
      },
      "outputs": [
        {
          "output_type": "stream",
          "name": "stdout",
          "text": [
            "[ 1.  2.  3.  4.  5.  6.  7.  8.  9. 10. 11. 12. 13. 14. 15. 16. 17. 18.]\n",
            "[ 1.  2.  3.  4.  5.  6.  7.  8.  9. 10. 11. 12. 13. 14. 15. 16. 17. 18.]\n"
          ]
        }
      ],
      "source": [
        "def moving_average(a, n=3) :\n",
        "    ret = np.cumsum(a, dtype=float)\n",
        "    ret[n:] = ret[n:] - ret[:-n]\n",
        "    return ret[n - 1:] / n\n",
        "Z = np.arange(20)\n",
        "print(moving_average(Z, n=3))\n",
        "\n",
        "from numpy.lib.stride_tricks import sliding_window_view\n",
        "\n",
        "Z = np.arange(20)\n",
        "print(sliding_window_view(Z, window_shape=3).mean(axis=-1))"
      ]
    },
    {
      "cell_type": "markdown",
      "metadata": {
        "id": "I-hV1csES8Wn"
      },
      "source": [
        "#### 76. Consider a one-dimensional array Z, build a two-dimensional array whose first row is (Z\\[0\\],Z\\[1\\],Z\\[2\\]) and each subsequent row is  shifted by 1 (last row should be (Z\\[-3\\],Z\\[-2\\],Z\\[-1\\]) (★★★) \n",
        "(**hint**: from numpy.lib import stride_tricks)"
      ]
    },
    {
      "cell_type": "code",
      "execution_count": 84,
      "metadata": {
        "colab": {
          "base_uri": "https://localhost:8080/"
        },
        "id": "x5HJrjd9S8Wn",
        "outputId": "8f78a9f6-4075-4eba-b15f-8d670d6aee3d"
      },
      "outputs": [
        {
          "output_type": "stream",
          "name": "stdout",
          "text": [
            "[[0 1 2]\n",
            " [1 2 3]\n",
            " [2 3 4]\n",
            " [3 4 5]\n",
            " [4 5 6]\n",
            " [5 6 7]\n",
            " [6 7 8]\n",
            " [7 8 9]]\n",
            "[[0 1 2]\n",
            " [1 2 3]\n",
            " [2 3 4]\n",
            " [3 4 5]\n",
            " [4 5 6]\n",
            " [5 6 7]\n",
            " [6 7 8]\n",
            " [7 8 9]]\n"
          ]
        }
      ],
      "source": [
        "from numpy.lib import stride_tricks\n",
        "\n",
        "def rolling(a, window):\n",
        "    shape = (a.size - window + 1, window)\n",
        "    strides = (a.strides[0], a.strides[0])\n",
        "    return stride_tricks.as_strided(a, shape=shape, strides=strides)\n",
        "Z = rolling(np.arange(10), 3)\n",
        "print(Z)\n",
        "\n",
        "Z = np.arange(10)\n",
        "print(sliding_window_view(Z, window_shape=3))"
      ]
    },
    {
      "cell_type": "markdown",
      "metadata": {
        "id": "nRJACjN7S8Wn"
      },
      "source": [
        "#### 77. How to negate a boolean, or to change the sign of a float inplace? (★★★) \n",
        "(**hint**: np.logical_not, np.negative)"
      ]
    },
    {
      "cell_type": "code",
      "execution_count": 85,
      "metadata": {
        "colab": {
          "base_uri": "https://localhost:8080/"
        },
        "id": "Quen12isS8Wo",
        "outputId": "7b8f0197-ed33-4968-af80-db46e0eb218f"
      },
      "outputs": [
        {
          "output_type": "execute_result",
          "data": {
            "text/plain": [
              "array([ 0.79768142, -0.37587501,  0.31108173, -0.04210889, -0.00555068,\n",
              "       -0.89741785, -0.65137905,  0.1769629 ,  0.83777321, -0.15707199,\n",
              "        0.92096759,  0.67471548,  0.87250829,  0.51256852,  0.51745055,\n",
              "        0.09810869,  0.30076253, -0.30288137, -0.88062664, -0.95297673,\n",
              "        0.3594944 ,  0.77610846,  0.27093285, -0.00959586, -0.38079337,\n",
              "        0.29414765,  0.53616617,  0.32255333, -0.70751039,  0.71183513,\n",
              "        0.64351421,  0.85611757, -0.41153911,  0.26341814,  0.03916354,\n",
              "        0.8239333 , -0.57053622,  0.79517676, -0.67100802, -0.08938561,\n",
              "        0.79196176,  0.245342  ,  0.99411385, -0.43837712,  0.30184376,\n",
              "       -0.75904603, -0.48743302, -0.20677009, -0.75249807, -0.98176526,\n",
              "        0.1332059 , -0.61330336,  0.56568051,  0.32585267, -0.33285367,\n",
              "        0.90361766,  0.49792975, -0.63990822,  0.01610553, -0.14745755,\n",
              "        0.82607828,  0.07801007,  0.98690915,  0.55468124, -0.75772539,\n",
              "       -0.44961749, -0.91173197, -0.92052519, -0.96277399,  0.04821551,\n",
              "        0.54380584,  0.84748905,  0.58738766, -0.26739062, -0.87083983,\n",
              "        0.84214566,  0.94464139, -0.61025923, -0.6107233 ,  0.41251149,\n",
              "        0.20177898, -0.14754002, -0.36032503, -0.25377381,  0.90329095,\n",
              "       -0.07271552, -0.82421094,  0.76967338, -0.0115757 ,  0.67982532,\n",
              "        0.45939907, -0.66600011, -0.23315529, -0.12993547, -0.07197065,\n",
              "       -0.90635308,  0.727756  , -0.7746852 , -0.95093125, -0.27014901])"
            ]
          },
          "metadata": {},
          "execution_count": 85
        }
      ],
      "source": [
        "Z = np.random.randint(0,2,100)\n",
        "np.logical_not(Z, out=Z)\n",
        "\n",
        "Z = np.random.uniform(-1.0,1.0,100)\n",
        "np.negative(Z, out=Z)"
      ]
    },
    {
      "cell_type": "markdown",
      "metadata": {
        "id": "cWvfhU9iS8Wo"
      },
      "source": [
        "#### 78. Consider 2 sets of points P0,P1 describing lines (2d) and a point p, how to compute distance from p to each line i  (P0\\[i\\],P1\\[i\\])? (★★★)"
      ]
    },
    {
      "cell_type": "code",
      "execution_count": 86,
      "metadata": {
        "colab": {
          "base_uri": "https://localhost:8080/"
        },
        "id": "f_90rAqiS8Wo",
        "outputId": "024cd3a4-d339-4ca4-f8e0-1d7d0ea5ff02"
      },
      "outputs": [
        {
          "output_type": "stream",
          "name": "stdout",
          "text": [
            "[14.73576681  1.92788967  9.74660562 11.00396486  5.93972623  1.80143166\n",
            " 19.51469665  3.5952093  11.18145921 17.00245154]\n"
          ]
        }
      ],
      "source": [
        "def distance(P0, P1, p):\n",
        "    T = P1 - P0\n",
        "    L = (T**2).sum(axis=1)\n",
        "    U = -((P0[:,0]-p[...,0])*T[:,0] + (P0[:,1]-p[...,1])*T[:,1]) / L\n",
        "    U = U.reshape(len(U),1)\n",
        "    D = P0 + U*T - p\n",
        "    return np.sqrt((D**2).sum(axis=1))\n",
        "\n",
        "P0 = np.random.uniform(-10,10,(10,2))\n",
        "P1 = np.random.uniform(-10,10,(10,2))\n",
        "p  = np.random.uniform(-10,10,( 1,2))\n",
        "print(distance(P0, P1, p))"
      ]
    },
    {
      "cell_type": "markdown",
      "metadata": {
        "id": "YSudeZNDS8Wo"
      },
      "source": [
        "#### 79. Consider 2 sets of points P0,P1 describing lines (2d) and a set of points P, how to compute distance from each point j (P\\[j\\]) to each line i (P0\\[i\\],P1\\[i\\])? (★★★)"
      ]
    },
    {
      "cell_type": "code",
      "execution_count": 87,
      "metadata": {
        "colab": {
          "base_uri": "https://localhost:8080/"
        },
        "id": "liAK3X9TS8Wp",
        "outputId": "fc3e03a6-90f2-491c-9a7e-17af8228f9e7"
      },
      "outputs": [
        {
          "output_type": "stream",
          "name": "stdout",
          "text": [
            "[[ 4.59469634  2.73037211  8.76891968  6.20618577  1.09388895  7.08577439\n",
            "   0.95108025  1.58708657  7.04768854  0.69441387]\n",
            " [ 8.18899128  0.18070938  4.03390791  0.06284283 12.17101294 10.44527758\n",
            "   0.69439502  9.78911186 19.49522825 13.23452661]\n",
            " [ 2.62815009  4.69071454  0.64313234  3.42430393 13.03974166  4.89970693\n",
            "   4.68628673 10.41531234 15.68678152  9.51946942]\n",
            " [ 4.88799905  2.03362317  0.5198234   0.81912369 11.04006337  7.18517214\n",
            "   2.24040728  8.49405948 15.82166943  9.59476765]\n",
            " [ 9.49959338  7.14151343  6.56696385  9.90626456  0.53760124 11.9939232\n",
            "   3.93113004  3.01523648  9.6645303   3.2175126 ]\n",
            " [ 6.95613006  1.94885172  2.41749695  3.80022481  6.11206965  9.33661563\n",
            "   0.48571125  3.59995673 13.28707069  6.9649262 ]\n",
            " [ 6.2869951  13.65942036  1.62706946 11.52027044 17.9049286   4.0580629\n",
            "  13.85929688 14.93413793 12.56042184  6.58846113]\n",
            " [ 7.32073164  1.31464953  0.50154424  2.68858397  7.91273574  9.66431659\n",
            "   0.54603832  5.43923898 15.13061268  8.82675493]\n",
            " [ 6.37094513  2.64039638  4.89821955  5.11403753  3.87393452  8.79805728\n",
            "   0.28624721  1.30781437 10.88754401  4.54461597]\n",
            " [ 1.12061428  0.66759324  9.83022385  3.19111395  2.79602149  3.59882651\n",
            "   4.49514435  0.02229433  5.66316267  0.61653279]]\n"
          ]
        }
      ],
      "source": [
        "P0 = np.random.uniform(-10, 10, (10,2))\n",
        "P1 = np.random.uniform(-10,10,(10,2))\n",
        "p = np.random.uniform(-10, 10, (10,2))\n",
        "print(np.array([distance(P0,P1,p_i) for p_i in p]))"
      ]
    },
    {
      "cell_type": "markdown",
      "metadata": {
        "id": "XCTAR3VzS8Wp"
      },
      "source": [
        "#### 80. Consider an arbitrary array, write a function that extract a subpart with a fixed shape and centered on a given element (pad with a `fill` value when necessary) (★★★) \n",
        "(**hint**: minimum, maximum)"
      ]
    },
    {
      "cell_type": "code",
      "execution_count": 88,
      "metadata": {
        "colab": {
          "base_uri": "https://localhost:8080/"
        },
        "id": "3UPGZUnZS8Wp",
        "outputId": "96a8b0e3-b71c-4c75-b83f-6fdfc07e1d3b"
      },
      "outputs": [
        {
          "output_type": "stream",
          "name": "stdout",
          "text": [
            "[[8 9 3 4 4 9 6 6 3 4]\n",
            " [1 2 6 0 7 9 5 3 9 0]\n",
            " [5 4 7 8 8 1 2 1 0 3]\n",
            " [4 2 8 4 5 2 4 5 6 4]\n",
            " [7 3 0 7 2 4 4 8 5 6]\n",
            " [4 4 2 5 1 8 8 1 1 8]\n",
            " [8 2 4 7 3 7 0 1 1 3]\n",
            " [4 8 4 0 1 9 4 5 6 7]\n",
            " [3 8 8 4 4 4 3 0 1 3]\n",
            " [2 9 4 7 8 5 1 0 3 7]]\n",
            "[[0 0 0 0 0]\n",
            " [0 8 9 3 4]\n",
            " [0 1 2 6 0]\n",
            " [0 5 4 7 8]\n",
            " [0 4 2 8 4]]\n"
          ]
        },
        {
          "output_type": "stream",
          "name": "stderr",
          "text": [
            "/usr/local/lib/python3.7/dist-packages/ipykernel_launcher.py:23: FutureWarning: Using a non-tuple sequence for multidimensional indexing is deprecated; use `arr[tuple(seq)]` instead of `arr[seq]`. In the future this will be interpreted as an array index, `arr[np.array(seq)]`, which will result either in an error or a different result.\n"
          ]
        }
      ],
      "source": [
        "Z = np.random.randint(0,10,(10,10))\n",
        "shape = (5,5)\n",
        "fill  = 0\n",
        "position = (1,1)\n",
        "\n",
        "R = np.ones(shape, dtype=Z.dtype)*fill\n",
        "P  = np.array(list(position)).astype(int)\n",
        "Rs = np.array(list(R.shape)).astype(int)\n",
        "Zs = np.array(list(Z.shape)).astype(int)\n",
        "\n",
        "R_start = np.zeros((len(shape),)).astype(int)\n",
        "R_stop  = np.array(list(shape)).astype(int)\n",
        "Z_start = (P-Rs//2)\n",
        "Z_stop  = (P+Rs//2)+Rs%2\n",
        "\n",
        "R_start = (R_start - np.minimum(Z_start,0)).tolist()\n",
        "Z_start = (np.maximum(Z_start,0)).tolist()\n",
        "R_stop = np.maximum(R_start, (R_stop - np.maximum(Z_stop-Zs,0))).tolist()\n",
        "Z_stop = (np.minimum(Z_stop,Zs)).tolist()\n",
        "\n",
        "r = [slice(start,stop) for start,stop in zip(R_start,R_stop)]\n",
        "z = [slice(start,stop) for start,stop in zip(Z_start,Z_stop)]\n",
        "R[r] = Z[z]\n",
        "print(Z)\n",
        "print(R)"
      ]
    },
    {
      "cell_type": "markdown",
      "metadata": {
        "id": "nTM40qywS8Wp"
      },
      "source": [
        "#### 81. Consider an array Z = \\[1,2,3,4,5,6,7,8,9,10,11,12,13,14\\], how to generate an array R = \\[\\[1,2,3,4\\], \\[2,3,4,5\\], \\[3,4,5,6\\], ..., \\[11,12,13,14\\]\\]? (★★★) \n",
        "(**hint**: stride\\_tricks.as\\_strided)"
      ]
    },
    {
      "cell_type": "code",
      "execution_count": 89,
      "metadata": {
        "colab": {
          "base_uri": "https://localhost:8080/"
        },
        "id": "x_LpJv_DS8Wq",
        "outputId": "37cb5f9b-dc2b-49f4-bb26-37e30bd416d8"
      },
      "outputs": [
        {
          "output_type": "stream",
          "name": "stdout",
          "text": [
            "[[ 1  2  3  4]\n",
            " [ 2  3  4  5]\n",
            " [ 3  4  5  6]\n",
            " [ 4  5  6  7]\n",
            " [ 5  6  7  8]\n",
            " [ 6  7  8  9]\n",
            " [ 7  8  9 10]\n",
            " [ 8  9 10 11]\n",
            " [ 9 10 11 12]\n",
            " [10 11 12 13]\n",
            " [11 12 13 14]]\n",
            "[[ 1  2  3  4]\n",
            " [ 2  3  4  5]\n",
            " [ 3  4  5  6]\n",
            " [ 4  5  6  7]\n",
            " [ 5  6  7  8]\n",
            " [ 6  7  8  9]\n",
            " [ 7  8  9 10]\n",
            " [ 8  9 10 11]\n",
            " [ 9 10 11 12]\n",
            " [10 11 12 13]\n",
            " [11 12 13 14]]\n"
          ]
        }
      ],
      "source": [
        "Z = np.arange(1,15,dtype=np.uint32)\n",
        "R = stride_tricks.as_strided(Z,(11,4),(4,4))\n",
        "print(R)\n",
        "\n",
        "Z = np.arange(1, 15, dtype=np.uint32)\n",
        "print(sliding_window_view(Z, window_shape=4))"
      ]
    },
    {
      "cell_type": "markdown",
      "metadata": {
        "id": "OnTNmvyxS8Wq"
      },
      "source": [
        "#### 82. Compute a matrix rank (★★★) \n",
        "(**hint**: np.linalg.svd) (suggestion: np.linalg.svd)"
      ]
    },
    {
      "cell_type": "code",
      "execution_count": 91,
      "metadata": {
        "colab": {
          "base_uri": "https://localhost:8080/"
        },
        "id": "JRG8bddKS8Wq",
        "outputId": "3e745dd6-4443-4e4f-ee65-8b665deca04c"
      },
      "outputs": [
        {
          "output_type": "stream",
          "name": "stdout",
          "text": [
            "10\n",
            "10\n"
          ]
        }
      ],
      "source": [
        "Z = np.random.uniform(0,1,(10,10))\n",
        "U, S, V = np.linalg.svd(Z) # Singular Value Decomposition\n",
        "rank = np.sum(S > 1e-10)\n",
        "print(rank)\n",
        "rank = np.linalg.matrix_rank(Z)\n",
        "print(rank)"
      ]
    },
    {
      "cell_type": "markdown",
      "metadata": {
        "id": "ISh9kSciS8Wq"
      },
      "source": [
        "#### 83. How to find the most frequent value in an array? \n",
        "(**hint**: np.bincount, argmax)"
      ]
    },
    {
      "cell_type": "code",
      "execution_count": 92,
      "metadata": {
        "colab": {
          "base_uri": "https://localhost:8080/"
        },
        "id": "lBJ-XAe6S8Wr",
        "outputId": "4f9a42a3-84c6-4e05-f047-de6fc48ca59f"
      },
      "outputs": [
        {
          "output_type": "stream",
          "name": "stdout",
          "text": [
            "6\n"
          ]
        }
      ],
      "source": [
        "Z = np.random.randint(0,10,50)\n",
        "print(np.bincount(Z).argmax())"
      ]
    },
    {
      "cell_type": "markdown",
      "metadata": {
        "id": "0Sr52SoQS8Wr"
      },
      "source": [
        "#### 84. Extract all the contiguous 3x3 blocks from a random 10x10 matrix (★★★) \n",
        "(**hint**: stride\\_tricks.as\\_strided)"
      ]
    },
    {
      "cell_type": "code",
      "execution_count": 93,
      "metadata": {
        "colab": {
          "base_uri": "https://localhost:8080/"
        },
        "id": "jt9IhQcfS8Wr",
        "outputId": "7ecdd751-5c2a-41f4-816a-6e7f8492fda9"
      },
      "outputs": [
        {
          "output_type": "stream",
          "name": "stdout",
          "text": [
            "[[[[1 1 3]\n",
            "   [2 0 0]\n",
            "   [3 3 3]]\n",
            "\n",
            "  [[1 3 0]\n",
            "   [0 0 4]\n",
            "   [3 3 1]]\n",
            "\n",
            "  [[3 0 4]\n",
            "   [0 4 3]\n",
            "   [3 1 0]]\n",
            "\n",
            "  [[0 4 0]\n",
            "   [4 3 3]\n",
            "   [1 0 1]]\n",
            "\n",
            "  [[4 0 2]\n",
            "   [3 3 1]\n",
            "   [0 1 4]]\n",
            "\n",
            "  [[0 2 2]\n",
            "   [3 1 3]\n",
            "   [1 4 3]]\n",
            "\n",
            "  [[2 2 4]\n",
            "   [1 3 3]\n",
            "   [4 3 4]]\n",
            "\n",
            "  [[2 4 2]\n",
            "   [3 3 1]\n",
            "   [3 4 2]]]\n",
            "\n",
            "\n",
            " [[[2 0 0]\n",
            "   [3 3 3]\n",
            "   [0 0 4]]\n",
            "\n",
            "  [[0 0 4]\n",
            "   [3 3 1]\n",
            "   [0 4 3]]\n",
            "\n",
            "  [[0 4 3]\n",
            "   [3 1 0]\n",
            "   [4 3 3]]\n",
            "\n",
            "  [[4 3 3]\n",
            "   [1 0 1]\n",
            "   [3 3 3]]\n",
            "\n",
            "  [[3 3 1]\n",
            "   [0 1 4]\n",
            "   [3 3 0]]\n",
            "\n",
            "  [[3 1 3]\n",
            "   [1 4 3]\n",
            "   [3 0 3]]\n",
            "\n",
            "  [[1 3 3]\n",
            "   [4 3 4]\n",
            "   [0 3 2]]\n",
            "\n",
            "  [[3 3 1]\n",
            "   [3 4 2]\n",
            "   [3 2 1]]]\n",
            "\n",
            "\n",
            " [[[3 3 3]\n",
            "   [0 0 4]\n",
            "   [2 2 4]]\n",
            "\n",
            "  [[3 3 1]\n",
            "   [0 4 3]\n",
            "   [2 4 4]]\n",
            "\n",
            "  [[3 1 0]\n",
            "   [4 3 3]\n",
            "   [4 4 1]]\n",
            "\n",
            "  [[1 0 1]\n",
            "   [3 3 3]\n",
            "   [4 1 1]]\n",
            "\n",
            "  [[0 1 4]\n",
            "   [3 3 0]\n",
            "   [1 1 0]]\n",
            "\n",
            "  [[1 4 3]\n",
            "   [3 0 3]\n",
            "   [1 0 3]]\n",
            "\n",
            "  [[4 3 4]\n",
            "   [0 3 2]\n",
            "   [0 3 2]]\n",
            "\n",
            "  [[3 4 2]\n",
            "   [3 2 1]\n",
            "   [3 2 4]]]\n",
            "\n",
            "\n",
            " [[[0 0 4]\n",
            "   [2 2 4]\n",
            "   [1 2 2]]\n",
            "\n",
            "  [[0 4 3]\n",
            "   [2 4 4]\n",
            "   [2 2 4]]\n",
            "\n",
            "  [[4 3 3]\n",
            "   [4 4 1]\n",
            "   [2 4 3]]\n",
            "\n",
            "  [[3 3 3]\n",
            "   [4 1 1]\n",
            "   [4 3 1]]\n",
            "\n",
            "  [[3 3 0]\n",
            "   [1 1 0]\n",
            "   [3 1 1]]\n",
            "\n",
            "  [[3 0 3]\n",
            "   [1 0 3]\n",
            "   [1 1 1]]\n",
            "\n",
            "  [[0 3 2]\n",
            "   [0 3 2]\n",
            "   [1 1 0]]\n",
            "\n",
            "  [[3 2 1]\n",
            "   [3 2 4]\n",
            "   [1 0 2]]]\n",
            "\n",
            "\n",
            " [[[2 2 4]\n",
            "   [1 2 2]\n",
            "   [1 4 3]]\n",
            "\n",
            "  [[2 4 4]\n",
            "   [2 2 4]\n",
            "   [4 3 2]]\n",
            "\n",
            "  [[4 4 1]\n",
            "   [2 4 3]\n",
            "   [3 2 4]]\n",
            "\n",
            "  [[4 1 1]\n",
            "   [4 3 1]\n",
            "   [2 4 4]]\n",
            "\n",
            "  [[1 1 0]\n",
            "   [3 1 1]\n",
            "   [4 4 2]]\n",
            "\n",
            "  [[1 0 3]\n",
            "   [1 1 1]\n",
            "   [4 2 1]]\n",
            "\n",
            "  [[0 3 2]\n",
            "   [1 1 0]\n",
            "   [2 1 2]]\n",
            "\n",
            "  [[3 2 4]\n",
            "   [1 0 2]\n",
            "   [1 2 1]]]\n",
            "\n",
            "\n",
            " [[[1 2 2]\n",
            "   [1 4 3]\n",
            "   [0 1 1]]\n",
            "\n",
            "  [[2 2 4]\n",
            "   [4 3 2]\n",
            "   [1 1 2]]\n",
            "\n",
            "  [[2 4 3]\n",
            "   [3 2 4]\n",
            "   [1 2 2]]\n",
            "\n",
            "  [[4 3 1]\n",
            "   [2 4 4]\n",
            "   [2 2 3]]\n",
            "\n",
            "  [[3 1 1]\n",
            "   [4 4 2]\n",
            "   [2 3 4]]\n",
            "\n",
            "  [[1 1 1]\n",
            "   [4 2 1]\n",
            "   [3 4 3]]\n",
            "\n",
            "  [[1 1 0]\n",
            "   [2 1 2]\n",
            "   [4 3 1]]\n",
            "\n",
            "  [[1 0 2]\n",
            "   [1 2 1]\n",
            "   [3 1 0]]]\n",
            "\n",
            "\n",
            " [[[1 4 3]\n",
            "   [0 1 1]\n",
            "   [4 3 4]]\n",
            "\n",
            "  [[4 3 2]\n",
            "   [1 1 2]\n",
            "   [3 4 1]]\n",
            "\n",
            "  [[3 2 4]\n",
            "   [1 2 2]\n",
            "   [4 1 2]]\n",
            "\n",
            "  [[2 4 4]\n",
            "   [2 2 3]\n",
            "   [1 2 4]]\n",
            "\n",
            "  [[4 4 2]\n",
            "   [2 3 4]\n",
            "   [2 4 0]]\n",
            "\n",
            "  [[4 2 1]\n",
            "   [3 4 3]\n",
            "   [4 0 3]]\n",
            "\n",
            "  [[2 1 2]\n",
            "   [4 3 1]\n",
            "   [0 3 1]]\n",
            "\n",
            "  [[1 2 1]\n",
            "   [3 1 0]\n",
            "   [3 1 4]]]\n",
            "\n",
            "\n",
            " [[[0 1 1]\n",
            "   [4 3 4]\n",
            "   [0 2 2]]\n",
            "\n",
            "  [[1 1 2]\n",
            "   [3 4 1]\n",
            "   [2 2 3]]\n",
            "\n",
            "  [[1 2 2]\n",
            "   [4 1 2]\n",
            "   [2 3 0]]\n",
            "\n",
            "  [[2 2 3]\n",
            "   [1 2 4]\n",
            "   [3 0 2]]\n",
            "\n",
            "  [[2 3 4]\n",
            "   [2 4 0]\n",
            "   [0 2 3]]\n",
            "\n",
            "  [[3 4 3]\n",
            "   [4 0 3]\n",
            "   [2 3 0]]\n",
            "\n",
            "  [[4 3 1]\n",
            "   [0 3 1]\n",
            "   [3 0 3]]\n",
            "\n",
            "  [[3 1 0]\n",
            "   [3 1 4]\n",
            "   [0 3 1]]]]\n",
            "[[[[2 1 0]\n",
            "   [0 4 3]\n",
            "   [1 3 0]]\n",
            "\n",
            "  [[1 0 0]\n",
            "   [4 3 1]\n",
            "   [3 0 3]]\n",
            "\n",
            "  [[0 0 0]\n",
            "   [3 1 1]\n",
            "   [0 3 2]]\n",
            "\n",
            "  [[0 0 3]\n",
            "   [1 1 2]\n",
            "   [3 2 3]]\n",
            "\n",
            "  [[0 3 3]\n",
            "   [1 2 1]\n",
            "   [2 3 4]]\n",
            "\n",
            "  [[3 3 1]\n",
            "   [2 1 0]\n",
            "   [3 4 3]]\n",
            "\n",
            "  [[3 1 4]\n",
            "   [1 0 1]\n",
            "   [4 3 3]]\n",
            "\n",
            "  [[1 4 2]\n",
            "   [0 1 0]\n",
            "   [3 3 1]]]\n",
            "\n",
            "\n",
            " [[[0 4 3]\n",
            "   [1 3 0]\n",
            "   [1 1 0]]\n",
            "\n",
            "  [[4 3 1]\n",
            "   [3 0 3]\n",
            "   [1 0 0]]\n",
            "\n",
            "  [[3 1 1]\n",
            "   [0 3 2]\n",
            "   [0 0 4]]\n",
            "\n",
            "  [[1 1 2]\n",
            "   [3 2 3]\n",
            "   [0 4 4]]\n",
            "\n",
            "  [[1 2 1]\n",
            "   [2 3 4]\n",
            "   [4 4 2]]\n",
            "\n",
            "  [[2 1 0]\n",
            "   [3 4 3]\n",
            "   [4 2 1]]\n",
            "\n",
            "  [[1 0 1]\n",
            "   [4 3 3]\n",
            "   [2 1 3]]\n",
            "\n",
            "  [[0 1 0]\n",
            "   [3 3 1]\n",
            "   [1 3 3]]]\n",
            "\n",
            "\n",
            " [[[1 3 0]\n",
            "   [1 1 0]\n",
            "   [2 0 1]]\n",
            "\n",
            "  [[3 0 3]\n",
            "   [1 0 0]\n",
            "   [0 1 4]]\n",
            "\n",
            "  [[0 3 2]\n",
            "   [0 0 4]\n",
            "   [1 4 4]]\n",
            "\n",
            "  [[3 2 3]\n",
            "   [0 4 4]\n",
            "   [4 4 2]]\n",
            "\n",
            "  [[2 3 4]\n",
            "   [4 4 2]\n",
            "   [4 2 0]]\n",
            "\n",
            "  [[3 4 3]\n",
            "   [4 2 1]\n",
            "   [2 0 1]]\n",
            "\n",
            "  [[4 3 3]\n",
            "   [2 1 3]\n",
            "   [0 1 3]]\n",
            "\n",
            "  [[3 3 1]\n",
            "   [1 3 3]\n",
            "   [1 3 1]]]\n",
            "\n",
            "\n",
            " [[[1 1 0]\n",
            "   [2 0 1]\n",
            "   [3 0 2]]\n",
            "\n",
            "  [[1 0 0]\n",
            "   [0 1 4]\n",
            "   [0 2 0]]\n",
            "\n",
            "  [[0 0 4]\n",
            "   [1 4 4]\n",
            "   [2 0 3]]\n",
            "\n",
            "  [[0 4 4]\n",
            "   [4 4 2]\n",
            "   [0 3 4]]\n",
            "\n",
            "  [[4 4 2]\n",
            "   [4 2 0]\n",
            "   [3 4 3]]\n",
            "\n",
            "  [[4 2 1]\n",
            "   [2 0 1]\n",
            "   [4 3 2]]\n",
            "\n",
            "  [[2 1 3]\n",
            "   [0 1 3]\n",
            "   [3 2 3]]\n",
            "\n",
            "  [[1 3 3]\n",
            "   [1 3 1]\n",
            "   [2 3 0]]]\n",
            "\n",
            "\n",
            " [[[2 0 1]\n",
            "   [3 0 2]\n",
            "   [4 3 1]]\n",
            "\n",
            "  [[0 1 4]\n",
            "   [0 2 0]\n",
            "   [3 1 3]]\n",
            "\n",
            "  [[1 4 4]\n",
            "   [2 0 3]\n",
            "   [1 3 0]]\n",
            "\n",
            "  [[4 4 2]\n",
            "   [0 3 4]\n",
            "   [3 0 2]]\n",
            "\n",
            "  [[4 2 0]\n",
            "   [3 4 3]\n",
            "   [0 2 3]]\n",
            "\n",
            "  [[2 0 1]\n",
            "   [4 3 2]\n",
            "   [2 3 0]]\n",
            "\n",
            "  [[0 1 3]\n",
            "   [3 2 3]\n",
            "   [3 0 4]]\n",
            "\n",
            "  [[1 3 1]\n",
            "   [2 3 0]\n",
            "   [0 4 4]]]\n",
            "\n",
            "\n",
            " [[[3 0 2]\n",
            "   [4 3 1]\n",
            "   [2 2 0]]\n",
            "\n",
            "  [[0 2 0]\n",
            "   [3 1 3]\n",
            "   [2 0 1]]\n",
            "\n",
            "  [[2 0 3]\n",
            "   [1 3 0]\n",
            "   [0 1 4]]\n",
            "\n",
            "  [[0 3 4]\n",
            "   [3 0 2]\n",
            "   [1 4 4]]\n",
            "\n",
            "  [[3 4 3]\n",
            "   [0 2 3]\n",
            "   [4 4 3]]\n",
            "\n",
            "  [[4 3 2]\n",
            "   [2 3 0]\n",
            "   [4 3 3]]\n",
            "\n",
            "  [[3 2 3]\n",
            "   [3 0 4]\n",
            "   [3 3 4]]\n",
            "\n",
            "  [[2 3 0]\n",
            "   [0 4 4]\n",
            "   [3 4 0]]]\n",
            "\n",
            "\n",
            " [[[4 3 1]\n",
            "   [2 2 0]\n",
            "   [0 0 4]]\n",
            "\n",
            "  [[3 1 3]\n",
            "   [2 0 1]\n",
            "   [0 4 3]]\n",
            "\n",
            "  [[1 3 0]\n",
            "   [0 1 4]\n",
            "   [4 3 3]]\n",
            "\n",
            "  [[3 0 2]\n",
            "   [1 4 4]\n",
            "   [3 3 1]]\n",
            "\n",
            "  [[0 2 3]\n",
            "   [4 4 3]\n",
            "   [3 1 3]]\n",
            "\n",
            "  [[2 3 0]\n",
            "   [4 3 3]\n",
            "   [1 3 0]]\n",
            "\n",
            "  [[3 0 4]\n",
            "   [3 3 4]\n",
            "   [3 0 2]]\n",
            "\n",
            "  [[0 4 4]\n",
            "   [3 4 0]\n",
            "   [0 2 0]]]\n",
            "\n",
            "\n",
            " [[[2 2 0]\n",
            "   [0 0 4]\n",
            "   [4 4 3]]\n",
            "\n",
            "  [[2 0 1]\n",
            "   [0 4 3]\n",
            "   [4 3 3]]\n",
            "\n",
            "  [[0 1 4]\n",
            "   [4 3 3]\n",
            "   [3 3 4]]\n",
            "\n",
            "  [[1 4 4]\n",
            "   [3 3 1]\n",
            "   [3 4 4]]\n",
            "\n",
            "  [[4 4 3]\n",
            "   [3 1 3]\n",
            "   [4 4 3]]\n",
            "\n",
            "  [[4 3 3]\n",
            "   [1 3 0]\n",
            "   [4 3 4]]\n",
            "\n",
            "  [[3 3 4]\n",
            "   [3 0 2]\n",
            "   [3 4 3]]\n",
            "\n",
            "  [[3 4 0]\n",
            "   [0 2 0]\n",
            "   [4 3 3]]]]\n"
          ]
        }
      ],
      "source": [
        "Z = np.random.randint(0,5,(10,10))\n",
        "n = 3\n",
        "i = 1 + (Z.shape[0]-3)\n",
        "j = 1 + (Z.shape[1]-3)\n",
        "C = stride_tricks.as_strided(Z, shape=(i, j, n, n), strides=Z.strides + Z.strides)\n",
        "print(C)\n",
        "\n",
        "Z = np.random.randint(0,5,(10,10))\n",
        "print(sliding_window_view(Z, window_shape=(3, 3)))"
      ]
    },
    {
      "cell_type": "markdown",
      "metadata": {
        "id": "50NINrOjS8Wr"
      },
      "source": [
        "#### 85. Create a 2D array subclass such that Z\\[i,j\\] == Z\\[j,i\\] (★★★) \n",
        "(**hint**: class method)"
      ]
    },
    {
      "cell_type": "code",
      "execution_count": 94,
      "metadata": {
        "colab": {
          "base_uri": "https://localhost:8080/"
        },
        "id": "YVsnRklyS8Ws",
        "outputId": "7b53a4fb-b95c-4424-ea7b-5606a849063f"
      },
      "outputs": [
        {
          "output_type": "stream",
          "name": "stdout",
          "text": [
            "[[ 7 10  8  4 12]\n",
            " [10  3  8 11  9]\n",
            " [ 8  8  6 42 15]\n",
            " [ 4 11 42  2  5]\n",
            " [12  9 15  5  9]]\n"
          ]
        }
      ],
      "source": [
        "class Symetric(np.ndarray):\n",
        "    def __setitem__(self, index, value):\n",
        "        i,j = index\n",
        "        super(Symetric, self).__setitem__((i,j), value)\n",
        "        super(Symetric, self).__setitem__((j,i), value)\n",
        "\n",
        "def symetric(Z):\n",
        "    return np.asarray(Z + Z.T - np.diag(Z.diagonal())).view(Symetric)\n",
        "\n",
        "S = symetric(np.random.randint(0,10,(5,5)))\n",
        "S[2,3] = 42\n",
        "print(S)"
      ]
    },
    {
      "cell_type": "markdown",
      "metadata": {
        "id": "oM614pRTS8Ws"
      },
      "source": [
        "#### 86. Consider a set of p matrices wich shape (n,n) and a set of p vectors with shape (n,1). How to compute the sum of of the p matrix products at once? (result has shape (n,1)) (★★★) \n",
        "(**hint**: np.tensordot)"
      ]
    },
    {
      "cell_type": "code",
      "execution_count": 95,
      "metadata": {
        "colab": {
          "base_uri": "https://localhost:8080/"
        },
        "id": "iwkMxq_lS8Ws",
        "outputId": "ef2289c9-a722-4d91-ee47-71bbd9402cc2"
      },
      "outputs": [
        {
          "output_type": "stream",
          "name": "stdout",
          "text": [
            "[[200.]\n",
            " [200.]\n",
            " [200.]\n",
            " [200.]\n",
            " [200.]\n",
            " [200.]\n",
            " [200.]\n",
            " [200.]\n",
            " [200.]\n",
            " [200.]\n",
            " [200.]\n",
            " [200.]\n",
            " [200.]\n",
            " [200.]\n",
            " [200.]\n",
            " [200.]\n",
            " [200.]\n",
            " [200.]\n",
            " [200.]\n",
            " [200.]]\n"
          ]
        }
      ],
      "source": [
        "p, n = 10, 20\n",
        "M = np.ones((p,n,n))\n",
        "V = np.ones((p,n,1))\n",
        "S = np.tensordot(M, V, axes=[[0, 2], [0, 1]])\n",
        "print(S)\n"
      ]
    },
    {
      "cell_type": "markdown",
      "metadata": {
        "id": "f6eHpfuMS8Wt"
      },
      "source": [
        "#### 87. Consider a 16x16 array, how to get the block-sum (block size is 4x4)? (★★★) \n",
        "(**hint**: np.add.reduceat)"
      ]
    },
    {
      "cell_type": "code",
      "execution_count": 96,
      "metadata": {
        "colab": {
          "base_uri": "https://localhost:8080/"
        },
        "id": "0SNjW1hxS8Wt",
        "outputId": "4bb5e0f8-e158-413e-80ab-9084cf988109"
      },
      "outputs": [
        {
          "output_type": "stream",
          "name": "stdout",
          "text": [
            "[[16. 16. 16. 16.]\n",
            " [16. 16. 16. 16.]\n",
            " [16. 16. 16. 16.]\n",
            " [16. 16. 16. 16.]]\n",
            "[[16. 16. 16. 16.]\n",
            " [16. 16. 16. 16.]\n",
            " [16. 16. 16. 16.]\n",
            " [16. 16. 16. 16.]]\n"
          ]
        }
      ],
      "source": [
        "Z = np.ones((16,16))\n",
        "k = 4\n",
        "S = np.add.reduceat(np.add.reduceat(Z, np.arange(0, Z.shape[0], k), axis=0),\n",
        "                                       np.arange(0, Z.shape[1], k), axis=1)\n",
        "print(S)\n",
        "\n",
        "Z = np.ones((16,16))\n",
        "k = 4\n",
        "\n",
        "windows = np.lib.stride_tricks.sliding_window_view(Z, (k, k))\n",
        "S = windows[::k, ::k, ...].sum(axis=(-2, -1))\n",
        "\n",
        "Z = np.ones((16, 16))\n",
        "k = 4\n",
        "print(sliding_window_view(Z, window_shape=(k, k))[::k, ::k].sum(axis=(-2, -1)))"
      ]
    },
    {
      "cell_type": "markdown",
      "metadata": {
        "id": "UXv-zCbRS8Wt"
      },
      "source": [
        "#### 88. How to implement the Game of Life using numpy arrays? (★★★)"
      ]
    },
    {
      "cell_type": "code",
      "execution_count": 97,
      "metadata": {
        "colab": {
          "base_uri": "https://localhost:8080/"
        },
        "id": "YT9rZOJRS8Wu",
        "outputId": "303a6cf8-027a-44d7-f992-b4f30958017a"
      },
      "outputs": [
        {
          "output_type": "stream",
          "name": "stdout",
          "text": [
            "[[0 0 0 ... 0 0 0]\n",
            " [0 0 0 ... 0 0 0]\n",
            " [0 0 0 ... 0 0 0]\n",
            " ...\n",
            " [0 0 0 ... 0 0 0]\n",
            " [0 0 0 ... 0 0 0]\n",
            " [0 0 0 ... 0 0 0]]\n"
          ]
        }
      ],
      "source": [
        "def iterate(Z):\n",
        "    N = (Z[0:-2,0:-2] + Z[0:-2,1:-1] + Z[0:-2,2:] +\n",
        "         Z[1:-1,0:-2]                + Z[1:-1,2:] +\n",
        "         Z[2:  ,0:-2] + Z[2:  ,1:-1] + Z[2:  ,2:])\n",
        "\n",
        "    birth = (N==3) & (Z[1:-1,1:-1]==0)\n",
        "    survive = ((N==2) | (N==3)) & (Z[1:-1,1:-1]==1)\n",
        "    Z[...] = 0\n",
        "    Z[1:-1,1:-1][birth | survive] = 1\n",
        "    return Z\n",
        "\n",
        "Z = np.random.randint(0,2,(50,50))\n",
        "for i in range(100): Z = iterate(Z)\n",
        "print(Z)"
      ]
    },
    {
      "cell_type": "markdown",
      "metadata": {
        "id": "wTLKnV4YS8Wu"
      },
      "source": [
        "#### 89. How to get the n largest values of an array (★★★) \n",
        "(**hint**: np.argsort | np.argpartition)"
      ]
    },
    {
      "cell_type": "code",
      "execution_count": 98,
      "metadata": {
        "colab": {
          "base_uri": "https://localhost:8080/"
        },
        "id": "amV7UfTKS8Wv",
        "outputId": "64fef2d6-83e4-4cb6-d231-c7873dc12be6"
      },
      "outputs": [
        {
          "output_type": "stream",
          "name": "stdout",
          "text": [
            "[9995 9996 9997 9998 9999]\n",
            "[9999 9997 9996 9998 9995]\n"
          ]
        }
      ],
      "source": [
        "Z = np.arange(10000)\n",
        "np.random.shuffle(Z)\n",
        "n = 5\n",
        "\n",
        "# Slow\n",
        "print (Z[np.argsort(Z)[-n:]])\n",
        "\n",
        "# Fast\n",
        "print (Z[np.argpartition(-Z,n)[:n]])"
      ]
    },
    {
      "cell_type": "markdown",
      "metadata": {
        "id": "cqddR6zaS8Wv"
      },
      "source": [
        "#### 90. Given an arbitrary number of vectors, build the cartesian product (every combinations of every item) (★★★) \n",
        "(**hint**: np.indices)"
      ]
    },
    {
      "cell_type": "code",
      "execution_count": 99,
      "metadata": {
        "scrolled": true,
        "colab": {
          "base_uri": "https://localhost:8080/"
        },
        "id": "tR7IN8KSS8Ww",
        "outputId": "0317a30c-7e23-4012-b37c-4a3a5dbdc74d"
      },
      "outputs": [
        {
          "output_type": "stream",
          "name": "stdout",
          "text": [
            "[[1 4 6]\n",
            " [1 4 7]\n",
            " [1 5 6]\n",
            " [1 5 7]\n",
            " [2 4 6]\n",
            " [2 4 7]\n",
            " [2 5 6]\n",
            " [2 5 7]\n",
            " [3 4 6]\n",
            " [3 4 7]\n",
            " [3 5 6]\n",
            " [3 5 7]]\n"
          ]
        }
      ],
      "source": [
        "def cartesian(arrays):\n",
        "    arrays = [np.asarray(a) for a in arrays]\n",
        "    shape = (len(x) for x in arrays)\n",
        "\n",
        "    ix = np.indices(shape, dtype=int)\n",
        "    ix = ix.reshape(len(arrays), -1).T\n",
        "\n",
        "    for n, arr in enumerate(arrays):\n",
        "        ix[:, n] = arrays[n][ix[:, n]]\n",
        "\n",
        "    return ix\n",
        "\n",
        "print (cartesian(([1, 2, 3], [4, 5], [6, 7])))"
      ]
    },
    {
      "cell_type": "markdown",
      "metadata": {
        "id": "eXi-G5YyS8Ww"
      },
      "source": [
        "#### 91. How to create a record array from a regular array? (★★★) \n",
        "(**hint**: np.core.records.fromarrays)"
      ]
    },
    {
      "cell_type": "code",
      "execution_count": 100,
      "metadata": {
        "colab": {
          "base_uri": "https://localhost:8080/"
        },
        "id": "fazIXHPoS8Wx",
        "outputId": "d897f094-1bdc-42c0-dc1b-9d4faaf11e8d"
      },
      "outputs": [
        {
          "output_type": "stream",
          "name": "stdout",
          "text": [
            "[(b'Hello', 2.5, 3) (b'World', 3.6, 2)]\n"
          ]
        }
      ],
      "source": [
        "Z = np.array([(\"Hello\", 2.5, 3),\n",
        "              (\"World\", 3.6, 2)])\n",
        "R = np.core.records.fromarrays(Z.T,\n",
        "                               names='col1, col2, col3',\n",
        "                               formats = 'S8, f8, i8')\n",
        "print(R)"
      ]
    },
    {
      "cell_type": "markdown",
      "metadata": {
        "id": "wOESKYJbS8Wx"
      },
      "source": [
        "#### 92. Consider a large vector Z, compute Z to the power of 3 using 3 different methods (★★★) \n",
        "(**hint**: np.power, \\*, np.einsum)"
      ]
    },
    {
      "cell_type": "code",
      "execution_count": 101,
      "metadata": {
        "colab": {
          "base_uri": "https://localhost:8080/"
        },
        "id": "ymxc3MrGS8Wx",
        "outputId": "949803ae-0d9c-442c-fa3a-867af8ae3d05"
      },
      "outputs": [
        {
          "output_type": "stream",
          "name": "stdout",
          "text": [
            "3.78 s ± 8.86 ms per loop (mean ± std. dev. of 7 runs, 1 loop each)\n",
            "184 ms ± 17.7 ms per loop (mean ± std. dev. of 7 runs, 10 loops each)\n",
            "158 ms ± 973 µs per loop (mean ± std. dev. of 7 runs, 10 loops each)\n"
          ]
        }
      ],
      "source": [
        "x = np.random.rand(int(5e7))\n",
        "\n",
        "%timeit np.power(x,3)\n",
        "%timeit x*x*x\n",
        "%timeit np.einsum('i,i,i->i',x,x,x)"
      ]
    },
    {
      "cell_type": "markdown",
      "metadata": {
        "id": "BoozjDxIS8Wy"
      },
      "source": [
        "#### 93. Consider two arrays A and B of shape (8,3) and (2,2). How to find rows of A that contain elements of each row of B regardless of the order of the elements in B? (★★★) \n",
        "(**hint**: np.where)"
      ]
    },
    {
      "cell_type": "code",
      "execution_count": 102,
      "metadata": {
        "colab": {
          "base_uri": "https://localhost:8080/"
        },
        "id": "G_FHi7iJS8Wy",
        "outputId": "a86757e2-d307-4445-e7c5-d92238881de7"
      },
      "outputs": [
        {
          "output_type": "stream",
          "name": "stdout",
          "text": [
            "[0 1 2 3 4 6 7]\n"
          ]
        }
      ],
      "source": [
        "A = np.random.randint(0,5,(8,3))\n",
        "B = np.random.randint(0,5,(2,2))\n",
        "\n",
        "C = (A[..., np.newaxis, np.newaxis] == B)\n",
        "rows = np.where(C.any((3,1)).all(1))[0]\n",
        "print(rows)"
      ]
    },
    {
      "cell_type": "markdown",
      "metadata": {
        "id": "b5lpodnGS8Wz"
      },
      "source": [
        "#### 94. Considering a 10x3 matrix, extract rows with unequal values (e.g. \\[2,2,3\\]) (★★★)"
      ]
    },
    {
      "cell_type": "code",
      "execution_count": 103,
      "metadata": {
        "colab": {
          "base_uri": "https://localhost:8080/"
        },
        "id": "w3U4DsspS8XP",
        "outputId": "badcdffa-70c9-4014-9637-db1cb168dd9a"
      },
      "outputs": [
        {
          "output_type": "stream",
          "name": "stdout",
          "text": [
            "[[4 4 1]\n",
            " [4 2 1]\n",
            " [0 0 4]\n",
            " [1 4 3]\n",
            " [3 0 0]\n",
            " [1 4 1]\n",
            " [3 4 0]\n",
            " [4 0 1]\n",
            " [1 3 4]\n",
            " [0 1 2]]\n",
            "[[4 4 1]\n",
            " [4 2 1]\n",
            " [0 0 4]\n",
            " [1 4 3]\n",
            " [3 0 0]\n",
            " [1 4 1]\n",
            " [3 4 0]\n",
            " [4 0 1]\n",
            " [1 3 4]\n",
            " [0 1 2]]\n",
            "[[4 4 1]\n",
            " [4 2 1]\n",
            " [0 0 4]\n",
            " [1 4 3]\n",
            " [3 0 0]\n",
            " [1 4 1]\n",
            " [3 4 0]\n",
            " [4 0 1]\n",
            " [1 3 4]\n",
            " [0 1 2]]\n"
          ]
        }
      ],
      "source": [
        "Z = np.random.randint(0,5,(10,3))\n",
        "print(Z)\n",
        "# solution for arrays of all dtypes (including string arrays and record arrays)\n",
        "E = np.all(Z[:,1:] == Z[:,:-1], axis=1)\n",
        "U = Z[~E]\n",
        "print(U)\n",
        "# soluiton for numerical arrays only, will work for any number of columns in Z\n",
        "U = Z[Z.max(axis=1) != Z.min(axis=1),:]\n",
        "print(U)"
      ]
    },
    {
      "cell_type": "markdown",
      "metadata": {
        "id": "iDIvdAeJS8XQ"
      },
      "source": [
        "#### 95. Convert a vector of ints into a matrix binary representation (★★★) \n",
        "(**hint**: np.unpackbits)"
      ]
    },
    {
      "cell_type": "code",
      "execution_count": 104,
      "metadata": {
        "colab": {
          "base_uri": "https://localhost:8080/"
        },
        "id": "ePzDQHsHS8XQ",
        "outputId": "2f1b7d20-7cb6-47d2-f5c0-92baedfbb9f7"
      },
      "outputs": [
        {
          "output_type": "stream",
          "name": "stdout",
          "text": [
            "[[0 0 0 0 0 0 0 0]\n",
            " [0 0 0 0 0 0 0 1]\n",
            " [0 0 0 0 0 0 1 0]\n",
            " [0 0 0 0 0 0 1 1]\n",
            " [0 0 0 0 1 1 1 1]\n",
            " [0 0 0 1 0 0 0 0]\n",
            " [0 0 1 0 0 0 0 0]\n",
            " [0 1 0 0 0 0 0 0]\n",
            " [1 0 0 0 0 0 0 0]]\n",
            "[[0 0 0 0 0 0 0 0]\n",
            " [0 0 0 0 0 0 0 1]\n",
            " [0 0 0 0 0 0 1 0]\n",
            " [0 0 0 0 0 0 1 1]\n",
            " [0 0 0 0 1 1 1 1]\n",
            " [0 0 0 1 0 0 0 0]\n",
            " [0 0 1 0 0 0 0 0]\n",
            " [0 1 0 0 0 0 0 0]\n",
            " [1 0 0 0 0 0 0 0]]\n"
          ]
        }
      ],
      "source": [
        "I = np.array([0, 1, 2, 3, 15, 16, 32, 64, 128])\n",
        "B = ((I.reshape(-1,1) & (2**np.arange(8))) != 0).astype(int)\n",
        "print(B[:,::-1])\n",
        "\n",
        "# Author: Daniel T. McDonald\n",
        "\n",
        "I = np.array([0, 1, 2, 3, 15, 16, 32, 64, 128], dtype=np.uint8)\n",
        "print(np.unpackbits(I[:, np.newaxis], axis=1))"
      ]
    },
    {
      "cell_type": "markdown",
      "metadata": {
        "id": "_Qggo0AzS8XQ"
      },
      "source": [
        "#### 96. Given a two dimensional array, how to extract unique rows? (★★★) \n",
        "(**hint**: np.ascontiguousarray)"
      ]
    },
    {
      "cell_type": "code",
      "execution_count": 105,
      "metadata": {
        "colab": {
          "base_uri": "https://localhost:8080/"
        },
        "id": "HRKUSfZzS8XQ",
        "outputId": "5419b52c-1888-4135-de6f-b60d5b6c7e6d"
      },
      "outputs": [
        {
          "output_type": "stream",
          "name": "stdout",
          "text": [
            "[[0 0 0]\n",
            " [0 0 1]\n",
            " [0 1 0]\n",
            " [1 1 0]\n",
            " [1 1 1]]\n",
            "[[0 0 0]\n",
            " [0 0 1]\n",
            " [0 1 0]\n",
            " [1 1 0]\n",
            " [1 1 1]]\n"
          ]
        }
      ],
      "source": [
        "Z = np.random.randint(0,2,(6,3))\n",
        "T = np.ascontiguousarray(Z).view(np.dtype((np.void, Z.dtype.itemsize * Z.shape[1])))\n",
        "_, idx = np.unique(T, return_index=True)\n",
        "uZ = Z[idx]\n",
        "print(uZ)\n",
        "\n",
        "# Author: Andreas Kouzelis\n",
        "# NumPy >= 1.13\n",
        "uZ = np.unique(Z, axis=0)\n",
        "print(uZ)"
      ]
    },
    {
      "cell_type": "markdown",
      "metadata": {
        "id": "CgwRGaZ2S8XQ"
      },
      "source": [
        "#### 97. Considering 2 vectors A & B, write the einsum equivalent of inner, outer, sum, and mul function (★★★) \n",
        "(**hint**: np.einsum)"
      ]
    },
    {
      "cell_type": "code",
      "execution_count": 106,
      "metadata": {
        "colab": {
          "base_uri": "https://localhost:8080/"
        },
        "id": "coogSpt6S8XR",
        "outputId": "c101e3de-b06f-4185-bc55-eed700dbebc0"
      },
      "outputs": [
        {
          "output_type": "execute_result",
          "data": {
            "text/plain": [
              "array([[0.01076503, 0.00713403, 0.0377314 , 0.03929722, 0.00852624,\n",
              "        0.00877797, 0.01471754, 0.01112677, 0.02846953, 0.04689295],\n",
              "       [0.12037552, 0.0797734 , 0.42191595, 0.43942511, 0.09534117,\n",
              "        0.09815607, 0.1645729 , 0.12442052, 0.3183489 , 0.52436125],\n",
              "       [0.08064242, 0.0534421 , 0.28265151, 0.29438132, 0.06387131,\n",
              "        0.06575708, 0.11025129, 0.08335226, 0.21326949, 0.35128205],\n",
              "       [0.13403887, 0.08882817, 0.46980597, 0.48930253, 0.10616297,\n",
              "        0.10929738, 0.18325292, 0.13854301, 0.35448344, 0.58387943],\n",
              "       [0.0533779 , 0.03537378, 0.18708942, 0.19485348, 0.04227696,\n",
              "        0.04352517, 0.07297626, 0.05517157, 0.14116488, 0.23251655],\n",
              "       [0.08486607, 0.05624113, 0.2974554 , 0.30979956, 0.06721658,\n",
              "        0.06920111, 0.11602571, 0.08771784, 0.2244395 , 0.36968048],\n",
              "       [0.15505988, 0.10275889, 0.54348454, 0.56603871, 0.12281226,\n",
              "        0.12643823, 0.21199205, 0.16027038, 0.41007625, 0.67544789],\n",
              "       [0.04570242, 0.0302872 , 0.1601869 , 0.16683452, 0.03619775,\n",
              "        0.03726647, 0.06248264, 0.04723817, 0.12086607, 0.19908184],\n",
              "       [0.17105597, 0.11335956, 0.5995508 , 0.62443166, 0.13548166,\n",
              "        0.13948169, 0.2338613 , 0.17680399, 0.45238001, 0.74512757],\n",
              "       [0.17260663, 0.1143872 , 0.60498587, 0.63009228, 0.13670984,\n",
              "        0.14074612, 0.23598131, 0.17840676, 0.45648094, 0.75188233]])"
            ]
          },
          "metadata": {},
          "execution_count": 106
        }
      ],
      "source": [
        "\n",
        "A = np.random.uniform(0,1,10)\n",
        "B = np.random.uniform(0,1,10)\n",
        "\n",
        "np.einsum('i->', A)       \n",
        "np.einsum('i,i->i', A, B) \n",
        "np.einsum('i,i', A, B)    \n",
        "np.einsum('i,j->ij', A, B)"
      ]
    },
    {
      "cell_type": "markdown",
      "metadata": {
        "id": "OQi4ScvcS8XR"
      },
      "source": [
        "#### 98. Considering a path described by two vectors (X,Y), how to sample it using equidistant samples (★★★)? \n",
        "(**hint**: np.cumsum, np.interp)"
      ]
    },
    {
      "cell_type": "code",
      "execution_count": 109,
      "metadata": {
        "collapsed": true,
        "id": "u9i3EGVtS8XR"
      },
      "outputs": [],
      "source": [
        "phi = np.arange(0, 10*np.pi, 0.1)\n",
        "a = 1\n",
        "x = a*phi*np.cos(phi)\n",
        "y = a*phi*np.sin(phi)\n",
        "\n",
        "dr = (np.diff(x)**2 + np.diff(y)**2)**.5\n",
        "r = np.zeros_like(x)\n",
        "r[1:] = np.cumsum(dr)                \n",
        "r_int = np.linspace(0, r.max(), 200) \n",
        "x_int = np.interp(r_int, r, x)       \n",
        "y_int = np.interp(r_int, r, y)"
      ]
    },
    {
      "cell_type": "markdown",
      "metadata": {
        "id": "F6D2nAHpS8XR"
      },
      "source": [
        "#### 99. Given an integer n and a 2D array X, select from X the rows which can be interpreted as draws from a multinomial distribution with n degrees, i.e., the rows which only contain integers and which sum to n. (★★★) \n",
        "(**hint**: np.logical\\_and.reduce, np.mod)"
      ]
    },
    {
      "cell_type": "code",
      "execution_count": 110,
      "metadata": {
        "colab": {
          "base_uri": "https://localhost:8080/"
        },
        "id": "XIgi8WoIS8XS",
        "outputId": "85797d76-d556-422d-fcc8-d9bc645241fc"
      },
      "outputs": [
        {
          "output_type": "stream",
          "name": "stdout",
          "text": [
            "[[2. 0. 1. 1.]]\n"
          ]
        }
      ],
      "source": [
        "X = np.asarray([[1.0, 0.0, 3.0, 8.0],\n",
        "                [2.0, 0.0, 1.0, 1.0],\n",
        "                [1.5, 2.5, 1.0, 0.0]])\n",
        "n = 4\n",
        "M = np.logical_and.reduce(np.mod(X, 1) == 0, axis=-1)\n",
        "M &= (X.sum(axis=-1) == n)\n",
        "print(X[M])"
      ]
    },
    {
      "cell_type": "markdown",
      "metadata": {
        "id": "pAer0iUsS8XS"
      },
      "source": [
        "#### 100. Compute bootstrapped 95% confidence intervals for the mean of a 1D array X (i.e., resample the elements of an array with replacement N times, compute the mean of each sample, and then compute percentiles over the means). (★★★) \n",
        "(**hint**: np.percentile)"
      ]
    },
    {
      "cell_type": "code",
      "execution_count": 111,
      "metadata": {
        "colab": {
          "base_uri": "https://localhost:8080/"
        },
        "id": "DuUfG35PS8XS",
        "outputId": "8be8e94b-33a0-4fb1-f5c1-0ad2d90642aa"
      },
      "outputs": [
        {
          "output_type": "stream",
          "name": "stdout",
          "text": [
            "[-0.25723787  0.13667391]\n"
          ]
        }
      ],
      "source": [
        "X = np.random.randn(100) # random 1D array\n",
        "N = 1000 # number of bootstrap samples\n",
        "idx = np.random.randint(0, X.size, (N, X.size))\n",
        "means = X[idx].mean(axis=1)\n",
        "confint = np.percentile(means, [2.5, 97.5])\n",
        "print(confint)"
      ]
    }
  ],
  "metadata": {
    "kernelspec": {
      "display_name": "Python 3",
      "language": "python",
      "name": "python3"
    },
    "language_info": {
      "codemirror_mode": {
        "name": "ipython",
        "version": 3
      },
      "file_extension": ".py",
      "mimetype": "text/x-python",
      "name": "python",
      "nbconvert_exporter": "python",
      "pygments_lexer": "ipython3",
      "version": "3.8.3"
    },
    "colab": {
      "provenance": [],
      "include_colab_link": true
    }
  },
  "nbformat": 4,
  "nbformat_minor": 0
}